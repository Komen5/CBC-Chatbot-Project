{
 "cells": [
  {
   "cell_type": "markdown",
   "metadata": {},
   "source": [
    "# Competency Based Curriculum Chatbot Project "
   ]
  },
  {
   "cell_type": "markdown",
   "metadata": {},
   "source": [
    "## Overview\n",
    "\n",
    "This project involved building a chatbot to  automate responses for the new education system in Kenya (CBC), assisting  students, parents, and educators with curriculum details, assessments, and policies. It enhances engagement, provides instant information, and simplifies learning pathways using AI-driven conversational support tailored to user needs.\n",
    "\n",
    "## Business Understanding\n",
    "\n",
    "The Competency-Based Curriculum (CBC) in Kenya is designed to equip learners with practical skills, but its implementation has faced challenges. Parents, teachers, and students often struggle to access accurate and timely information regarding the curriculum, assessment methods, and their respective roles. Currently, most CBC-related inquiries rely on government circulars, school meetings, or online discussions, which are often fragmented and inconsistent.\n",
    "\n",
    "To address this, an AI-powered chatbot will be developed to provide instant, reliable, and structured responses to CBC-related questions. This chatbot will serve as an interactive platform where users can seek information about curriculum structure, assessment criteria, parental involvement, and available teaching resources. The goal is to enhance accessibility, reduce misinformation, and improve user engagement by leveraging natural language processing (NLP) for dynamic, intelligent responses.\n",
    "\n",
    "## Data Understanding\n",
    "To ensure the chatbot delivers relevant and accurate responses, data will be gathered from multiple sources. Official curriculum documents from the Kenya Institute of Curriculum Development (KICD) will serve as the primary data source, supplemented by Ministry of Education policies, circulars, and guidelines. \n",
    "The data will primarily be text-based, comprising structured content from official documents and unstructured conversations from forums and user queries. \n",
    "\n",
    "## Objectives\n",
    "1. To develop a chatbot that leverages TF-IDF and Cosine Similarity to match user queries with relevant responses, while utilizing Random Forest/XGBoost to rank and optimize the best possible answers, ensuring accurate and efficient query resolution\n",
    "\n",
    "2. To analyze the question column in the FAQS dataset to identify the most frequently asked queries and common keywords, enabling optimization of chatbot responses and improving user query resolution.\n",
    "\n",
    "3. To apply an NLP-based sentiment analysis approach using VADER and TextBlob to classify CBC-related tweets as positive, negative, or neutral, providing strategic insights into the education system.\n",
    "\n",
    "4. To analyze sentiment trends in tweets about the CBC education system, providing actionable insights to support strategic decision-making for policy development, curriculum improvements, and stakeholder engagement \n",
    "\n",
    "5. To build and evaluate predictive models (Random Forest, XGBoost, and Logistic Regression) for sentiment classification, comparing their performance in accurately classifying CBC-related tweets.\n"
   ]
  },
  {
   "cell_type": "code",
   "execution_count": 82,
   "metadata": {},
   "outputs": [
    {
     "name": "stderr",
     "output_type": "stream",
     "text": [
      "[nltk_data] Downloading package vader_lexicon to\n",
      "[nltk_data]     C:\\Users\\User\\AppData\\Roaming\\nltk_data...\n",
      "[nltk_data]   Package vader_lexicon is already up-to-date!\n",
      "[nltk_data] Downloading package stopwords to\n",
      "[nltk_data]     C:\\Users\\User\\AppData\\Roaming\\nltk_data...\n",
      "[nltk_data]   Package stopwords is already up-to-date!\n",
      "[nltk_data] Downloading package punkt to\n",
      "[nltk_data]     C:\\Users\\User\\AppData\\Roaming\\nltk_data...\n",
      "[nltk_data]   Package punkt is already up-to-date!\n",
      "[nltk_data] Downloading package wordnet to\n",
      "[nltk_data]     C:\\Users\\User\\AppData\\Roaming\\nltk_data...\n",
      "[nltk_data]   Package wordnet is already up-to-date!\n",
      "[nltk_data] Downloading package averaged_perceptron_tagger to\n",
      "[nltk_data]     C:\\Users\\User\\AppData\\Roaming\\nltk_data...\n",
      "[nltk_data]   Package averaged_perceptron_tagger is already up-to-\n",
      "[nltk_data]       date!\n",
      "[nltk_data] Downloading package omw-1.4 to\n",
      "[nltk_data]     C:\\Users\\User\\AppData\\Roaming\\nltk_data...\n",
      "[nltk_data]   Package omw-1.4 is already up-to-date!\n",
      "[nltk_data] Downloading package wordnet to\n",
      "[nltk_data]     C:\\Users\\User\\AppData\\Roaming\\nltk_data...\n",
      "[nltk_data]   Package wordnet is already up-to-date!\n"
     ]
    }
   ],
   "source": [
    "# Importing the necessary libraries\n",
    "import pandas as pd\n",
    "import numpy as np\n",
    "import matplotlib.pyplot as plt\n",
    "import seaborn as sns\n",
    "import warnings\n",
    "import tensorflow as tf\n",
    "\n",
    "\n",
    "warnings.filterwarnings('ignore')\n",
    "from collections import Counter\n",
    "\n",
    "import re\n",
    "from nltk.corpus import stopwords\n",
    "from nltk.tokenize import word_tokenize\n",
    "from textblob import TextBlob\n",
    "import nltk\n",
    "\n",
    "nltk.download('vader_lexicon')\n",
    "nltk.download('stopwords')\n",
    "nltk.download('punkt')\n",
    "nltk.download('wordnet')\n",
    "nltk.download('averaged_perceptron_tagger')\n",
    "nltk.download('omw-1.4')\n",
    "nltk.download('wordnet')\n",
    "\n",
    "from nltk.stem import WordNetLemmatizer\n",
    "from sklearn.model_selection import train_test_split\n",
    "from sklearn.linear_model import LogisticRegression\n",
    "from sklearn.metrics import classification_report, confusion_matrix\n",
    "from sklearn.feature_extraction.text import TfidfVectorizer\n",
    "from sklearn.metrics.pairwise import cosine_similarity\n",
    "from nltk.sentiment import SentimentIntensityAnalyzer\n",
    "from sklearn.model_selection import train_test_split\n",
    "from sklearn.ensemble import RandomForestClassifier\n",
    "from xgboost import XGBClassifier\n",
    "from sklearn.linear_model import LogisticRegression\n",
    "from sklearn.preprocessing import LabelEncoder\n",
    "from sklearn.metrics import accuracy_score, classification_report\n",
    "from tensorflow.keras.models import Sequential\n",
    "from tensorflow.keras.layers import Embedding, LSTM, Dense, Dropout\n",
    "from tensorflow.keras.preprocessing.text import Tokenizer\n",
    "from tensorflow.keras.preprocessing.sequence import pad_sequences\n",
    "from tensorflow.keras.optimizers import Adam\n",
    "from sentence_transformers import SentenceTransformer\n",
    "from sklearn.model_selection import GridSearchCV\n",
    "from wordcloud import WordCloud\n",
    "from nltk.corpus import stopwords\n",
    "from nltk.tokenize import word_tokenize\n",
    "from collections import Counter\n",
    "import random\n",
    "import string\n",
    "import nltk"
   ]
  },
  {
   "cell_type": "code",
   "execution_count": 2,
   "metadata": {},
   "outputs": [
    {
     "data": {
      "text/html": [
       "<div>\n",
       "<style scoped>\n",
       "    .dataframe tbody tr th:only-of-type {\n",
       "        vertical-align: middle;\n",
       "    }\n",
       "\n",
       "    .dataframe tbody tr th {\n",
       "        vertical-align: top;\n",
       "    }\n",
       "\n",
       "    .dataframe thead th {\n",
       "        text-align: right;\n",
       "    }\n",
       "</style>\n",
       "<table border=\"1\" class=\"dataframe\">\n",
       "  <thead>\n",
       "    <tr style=\"text-align: right;\">\n",
       "      <th></th>\n",
       "      <th>Question</th>\n",
       "      <th>Answer</th>\n",
       "    </tr>\n",
       "  </thead>\n",
       "  <tbody>\n",
       "    <tr>\n",
       "      <th>0</th>\n",
       "      <td>What are the main objectives of the Competency...</td>\n",
       "      <td>The CBC aims to equip learners with practical ...</td>\n",
       "    </tr>\n",
       "    <tr>\n",
       "      <th>1</th>\n",
       "      <td>How does CBC differ from the 8-4-4 education s...</td>\n",
       "      <td>Unlike 8-4-4, which focused on exams and conte...</td>\n",
       "    </tr>\n",
       "    <tr>\n",
       "      <th>2</th>\n",
       "      <td>What are the key levels in the CBC structure?</td>\n",
       "      <td>CBC is divided into three main levels: Early Y...</td>\n",
       "    </tr>\n",
       "    <tr>\n",
       "      <th>3</th>\n",
       "      <td>What role do parents play in CBC?</td>\n",
       "      <td>Parents are actively involved in their child's...</td>\n",
       "    </tr>\n",
       "    <tr>\n",
       "      <th>4</th>\n",
       "      <td>How is learner progress assessed under CBC?</td>\n",
       "      <td>Assessment is continuous and includes practica...</td>\n",
       "    </tr>\n",
       "    <tr>\n",
       "      <th>...</th>\n",
       "      <td>...</td>\n",
       "      <td>...</td>\n",
       "    </tr>\n",
       "    <tr>\n",
       "      <th>2528</th>\n",
       "      <td>Are learners required to repeat grades under CBC?</td>\n",
       "      <td>No, CBC focuses on competency-based progressio...</td>\n",
       "    </tr>\n",
       "    <tr>\n",
       "      <th>2529</th>\n",
       "      <td>Which learning resources are essential for CBC?</td>\n",
       "      <td>CBC students need approved textbooks, workbook...</td>\n",
       "    </tr>\n",
       "    <tr>\n",
       "      <th>2530</th>\n",
       "      <td>What books and resources are needed for CBC st...</td>\n",
       "      <td>CBC learners require textbooks and workbooks t...</td>\n",
       "    </tr>\n",
       "    <tr>\n",
       "      <th>2531</th>\n",
       "      <td>What educational materials do CBC students need?</td>\n",
       "      <td>Students in CBC must have KICD-approved textbo...</td>\n",
       "    </tr>\n",
       "    <tr>\n",
       "      <th>2532</th>\n",
       "      <td>Where can one find CBC study materials?</td>\n",
       "      <td>CBC study materials can be found through schoo...</td>\n",
       "    </tr>\n",
       "  </tbody>\n",
       "</table>\n",
       "<p>2533 rows × 2 columns</p>\n",
       "</div>"
      ],
      "text/plain": [
       "                                               Question  \\\n",
       "0     What are the main objectives of the Competency...   \n",
       "1     How does CBC differ from the 8-4-4 education s...   \n",
       "2         What are the key levels in the CBC structure?   \n",
       "3                     What role do parents play in CBC?   \n",
       "4           How is learner progress assessed under CBC?   \n",
       "...                                                 ...   \n",
       "2528  Are learners required to repeat grades under CBC?   \n",
       "2529    Which learning resources are essential for CBC?   \n",
       "2530  What books and resources are needed for CBC st...   \n",
       "2531   What educational materials do CBC students need?   \n",
       "2532            Where can one find CBC study materials?   \n",
       "\n",
       "                                                 Answer  \n",
       "0     The CBC aims to equip learners with practical ...  \n",
       "1     Unlike 8-4-4, which focused on exams and conte...  \n",
       "2     CBC is divided into three main levels: Early Y...  \n",
       "3     Parents are actively involved in their child's...  \n",
       "4     Assessment is continuous and includes practica...  \n",
       "...                                                 ...  \n",
       "2528  No, CBC focuses on competency-based progressio...  \n",
       "2529  CBC students need approved textbooks, workbook...  \n",
       "2530  CBC learners require textbooks and workbooks t...  \n",
       "2531  Students in CBC must have KICD-approved textbo...  \n",
       "2532  CBC study materials can be found through schoo...  \n",
       "\n",
       "[2533 rows x 2 columns]"
      ]
     },
     "execution_count": 2,
     "metadata": {},
     "output_type": "execute_result"
    }
   ],
   "source": [
    "# Loading the FAQS dataset\n",
    "data = pd.read_csv(\"FAQS.csv\")\n",
    "data"
   ]
  },
  {
   "cell_type": "code",
   "execution_count": 3,
   "metadata": {
    "scrolled": true
   },
   "outputs": [
    {
     "data": {
      "text/html": [
       "<div>\n",
       "<style scoped>\n",
       "    .dataframe tbody tr th:only-of-type {\n",
       "        vertical-align: middle;\n",
       "    }\n",
       "\n",
       "    .dataframe tbody tr th {\n",
       "        vertical-align: top;\n",
       "    }\n",
       "\n",
       "    .dataframe thead th {\n",
       "        text-align: right;\n",
       "    }\n",
       "</style>\n",
       "<table border=\"1\" class=\"dataframe\">\n",
       "  <thead>\n",
       "    <tr style=\"text-align: right;\">\n",
       "      <th></th>\n",
       "      <th>Tweet_count</th>\n",
       "      <th>Username</th>\n",
       "      <th>Text</th>\n",
       "      <th>Created At</th>\n",
       "      <th>Retweets</th>\n",
       "      <th>Likes</th>\n",
       "    </tr>\n",
       "  </thead>\n",
       "  <tbody>\n",
       "    <tr>\n",
       "      <th>0</th>\n",
       "      <td>1</td>\n",
       "      <td>Edtech East Africa</td>\n",
       "      <td>Let’s Talk Monday: EdTech Edition!\\nParents, d...</td>\n",
       "      <td>Mon Jan 20 07:20:46 +0000 2025</td>\n",
       "      <td>1</td>\n",
       "      <td>3</td>\n",
       "    </tr>\n",
       "    <tr>\n",
       "      <th>1</th>\n",
       "      <td>2</td>\n",
       "      <td>Edtech East Africa</td>\n",
       "      <td>Let’s Talk Monday: #EdTechMonday\\n\\nWith Kenya...</td>\n",
       "      <td>Mon Jan 27 08:45:00 +0000 2025</td>\n",
       "      <td>1</td>\n",
       "      <td>0</td>\n",
       "    </tr>\n",
       "    <tr>\n",
       "      <th>2</th>\n",
       "      <td>3</td>\n",
       "      <td>unknown</td>\n",
       "      <td>Education reforms under CBC are revolutionizin...</td>\n",
       "      <td>Mon Jan 20 09:16:39 +0000 2025</td>\n",
       "      <td>0</td>\n",
       "      <td>0</td>\n",
       "    </tr>\n",
       "    <tr>\n",
       "      <th>3</th>\n",
       "      <td>4</td>\n",
       "      <td>Kenya Girl Guides Association</td>\n",
       "      <td>Betty Kirui shares how the CBC education syste...</td>\n",
       "      <td>Mon Dec 16 07:32:44 +0000 2024</td>\n",
       "      <td>1</td>\n",
       "      <td>2</td>\n",
       "    </tr>\n",
       "    <tr>\n",
       "      <th>4</th>\n",
       "      <td>5</td>\n",
       "      <td>His/Him/He</td>\n",
       "      <td>The shift from 8-4-4 to CBC reflects Kenya's c...</td>\n",
       "      <td>Mon Jan 20 09:16:27 +0000 2025</td>\n",
       "      <td>0</td>\n",
       "      <td>0</td>\n",
       "    </tr>\n",
       "    <tr>\n",
       "      <th>...</th>\n",
       "      <td>...</td>\n",
       "      <td>...</td>\n",
       "      <td>...</td>\n",
       "      <td>...</td>\n",
       "      <td>...</td>\n",
       "      <td>...</td>\n",
       "    </tr>\n",
       "    <tr>\n",
       "      <th>1081</th>\n",
       "      <td>220</td>\n",
       "      <td>Lindah Oguttu aka Mtu ya mjengo</td>\n",
       "      <td>Someone here @wmnjoya once said CBC is for the...</td>\n",
       "      <td>Sun Jan 19 14:14:51 +0000 2020</td>\n",
       "      <td>237</td>\n",
       "      <td>1066</td>\n",
       "    </tr>\n",
       "    <tr>\n",
       "      <th>1082</th>\n",
       "      <td>221</td>\n",
       "      <td>#LandIsNotProperty Mwalimu Wandia</td>\n",
       "      <td>The reason we went along with CBC is POLITICAL...</td>\n",
       "      <td>Sun May 29 03:58:22 +0000 2022</td>\n",
       "      <td>123</td>\n",
       "      <td>248</td>\n",
       "    </tr>\n",
       "    <tr>\n",
       "      <th>1083</th>\n",
       "      <td>222</td>\n",
       "      <td>Sewe Saldanha</td>\n",
       "      <td>The guys who designed CBC send their kids to I...</td>\n",
       "      <td>Tue Sep 07 03:47:02 +0000 2021</td>\n",
       "      <td>220</td>\n",
       "      <td>504</td>\n",
       "    </tr>\n",
       "    <tr>\n",
       "      <th>1084</th>\n",
       "      <td>223</td>\n",
       "      <td>Samira Sawlani</td>\n",
       "      <td>I have been in Kenya 2 months- people I meet (...</td>\n",
       "      <td>Wed Nov 16 16:41:23 +0000 2022</td>\n",
       "      <td>115</td>\n",
       "      <td>484</td>\n",
       "    </tr>\n",
       "    <tr>\n",
       "      <th>1085</th>\n",
       "      <td>224</td>\n",
       "      <td>#LandIsNotProperty Mwalimu Wandia</td>\n",
       "      <td>.@KICDKenya told Kenyans that CBC teaches comp...</td>\n",
       "      <td>Tue Aug 31 08:49:26 +0000 2021</td>\n",
       "      <td>73</td>\n",
       "      <td>219</td>\n",
       "    </tr>\n",
       "  </tbody>\n",
       "</table>\n",
       "<p>1086 rows × 6 columns</p>\n",
       "</div>"
      ],
      "text/plain": [
       "      Tweet_count                           Username  \\\n",
       "0               1                 Edtech East Africa   \n",
       "1               2                 Edtech East Africa   \n",
       "2               3                            unknown   \n",
       "3               4      Kenya Girl Guides Association   \n",
       "4               5                         His/Him/He   \n",
       "...           ...                                ...   \n",
       "1081          220    Lindah Oguttu aka Mtu ya mjengo   \n",
       "1082          221  #LandIsNotProperty Mwalimu Wandia   \n",
       "1083          222                      Sewe Saldanha   \n",
       "1084          223                     Samira Sawlani   \n",
       "1085          224  #LandIsNotProperty Mwalimu Wandia   \n",
       "\n",
       "                                                   Text  \\\n",
       "0     Let’s Talk Monday: EdTech Edition!\\nParents, d...   \n",
       "1     Let’s Talk Monday: #EdTechMonday\\n\\nWith Kenya...   \n",
       "2     Education reforms under CBC are revolutionizin...   \n",
       "3     Betty Kirui shares how the CBC education syste...   \n",
       "4     The shift from 8-4-4 to CBC reflects Kenya's c...   \n",
       "...                                                 ...   \n",
       "1081  Someone here @wmnjoya once said CBC is for the...   \n",
       "1082  The reason we went along with CBC is POLITICAL...   \n",
       "1083  The guys who designed CBC send their kids to I...   \n",
       "1084  I have been in Kenya 2 months- people I meet (...   \n",
       "1085  .@KICDKenya told Kenyans that CBC teaches comp...   \n",
       "\n",
       "                          Created At  Retweets  Likes  \n",
       "0     Mon Jan 20 07:20:46 +0000 2025         1      3  \n",
       "1     Mon Jan 27 08:45:00 +0000 2025         1      0  \n",
       "2     Mon Jan 20 09:16:39 +0000 2025         0      0  \n",
       "3     Mon Dec 16 07:32:44 +0000 2024         1      2  \n",
       "4     Mon Jan 20 09:16:27 +0000 2025         0      0  \n",
       "...                              ...       ...    ...  \n",
       "1081  Sun Jan 19 14:14:51 +0000 2020       237   1066  \n",
       "1082  Sun May 29 03:58:22 +0000 2022       123    248  \n",
       "1083  Tue Sep 07 03:47:02 +0000 2021       220    504  \n",
       "1084  Wed Nov 16 16:41:23 +0000 2022       115    484  \n",
       "1085  Tue Aug 31 08:49:26 +0000 2021        73    219  \n",
       "\n",
       "[1086 rows x 6 columns]"
      ]
     },
     "execution_count": 3,
     "metadata": {},
     "output_type": "execute_result"
    }
   ],
   "source": [
    "# Loading the tweets dataset\n",
    "tweets = pd.read_csv(\"merged_dataset_Twitter.csv\")\n",
    "tweets"
   ]
  },
  {
   "cell_type": "code",
   "execution_count": 4,
   "metadata": {},
   "outputs": [
    {
     "name": "stdout",
     "output_type": "stream",
     "text": [
      "<class 'pandas.core.frame.DataFrame'>\n",
      "RangeIndex: 2533 entries, 0 to 2532\n",
      "Data columns (total 2 columns):\n",
      " #   Column    Non-Null Count  Dtype \n",
      "---  ------    --------------  ----- \n",
      " 0   Question  2533 non-null   object\n",
      " 1   Answer    2533 non-null   object\n",
      "dtypes: object(2)\n",
      "memory usage: 39.7+ KB\n"
     ]
    }
   ],
   "source": [
    "# Check the info in the FAQS dataset\n",
    "data.info()"
   ]
  },
  {
   "cell_type": "markdown",
   "metadata": {},
   "source": [
    "This dataset has 2,533 entries and 2 columns (Question, Answer), both containing text data (object type) with no missing values."
   ]
  },
  {
   "cell_type": "code",
   "execution_count": 5,
   "metadata": {},
   "outputs": [
    {
     "data": {
      "text/html": [
       "<div>\n",
       "<style scoped>\n",
       "    .dataframe tbody tr th:only-of-type {\n",
       "        vertical-align: middle;\n",
       "    }\n",
       "\n",
       "    .dataframe tbody tr th {\n",
       "        vertical-align: top;\n",
       "    }\n",
       "\n",
       "    .dataframe thead th {\n",
       "        text-align: right;\n",
       "    }\n",
       "</style>\n",
       "<table border=\"1\" class=\"dataframe\">\n",
       "  <thead>\n",
       "    <tr style=\"text-align: right;\">\n",
       "      <th></th>\n",
       "      <th>Question</th>\n",
       "      <th>Answer</th>\n",
       "    </tr>\n",
       "  </thead>\n",
       "  <tbody>\n",
       "    <tr>\n",
       "      <th>count</th>\n",
       "      <td>2533</td>\n",
       "      <td>2533</td>\n",
       "    </tr>\n",
       "    <tr>\n",
       "      <th>unique</th>\n",
       "      <td>1897</td>\n",
       "      <td>2145</td>\n",
       "    </tr>\n",
       "    <tr>\n",
       "      <th>top</th>\n",
       "      <td>What impact does CBC have on creativity?</td>\n",
       "      <td>CBC focuses on hands-on learning, critical thi...</td>\n",
       "    </tr>\n",
       "    <tr>\n",
       "      <th>freq</th>\n",
       "      <td>7</td>\n",
       "      <td>5</td>\n",
       "    </tr>\n",
       "  </tbody>\n",
       "</table>\n",
       "</div>"
      ],
      "text/plain": [
       "                                        Question  \\\n",
       "count                                       2533   \n",
       "unique                                      1897   \n",
       "top     What impact does CBC have on creativity?   \n",
       "freq                                           7   \n",
       "\n",
       "                                                   Answer  \n",
       "count                                                2533  \n",
       "unique                                               2145  \n",
       "top     CBC focuses on hands-on learning, critical thi...  \n",
       "freq                                                    5  "
      ]
     },
     "execution_count": 5,
     "metadata": {},
     "output_type": "execute_result"
    }
   ],
   "source": [
    "#Describing the FAQS dataset\n",
    "data.describe()"
   ]
  },
  {
   "cell_type": "markdown",
   "metadata": {},
   "source": [
    "* There are 2,533 rows, meaning the dataset contains 2,533 FAQ pairs (each with a question and answer).\n",
    "Unique Values\n",
    "\n",
    "* Question column has 1,897 unique values:\n",
    "* Answers column has 2,144 unique values:\n",
    "* The most common question is \"How does CBC promote civic responsibility?\", appearing 7 times in the dataset.\n",
    "* The most common answer is \"Unlike traditional systems, CBC prioritizes co...\", appearing 5 times in the dataset.\n",
    "* The most common question appears 7 times, indicating that users frequently ask about CBC and civic responsibility.\n",
    "* The most common answer appears 5 times, suggesting that some questions share a similar response."
   ]
  },
  {
   "cell_type": "code",
   "execution_count": 6,
   "metadata": {},
   "outputs": [
    {
     "name": "stdout",
     "output_type": "stream",
     "text": [
      "<class 'pandas.core.frame.DataFrame'>\n",
      "RangeIndex: 1086 entries, 0 to 1085\n",
      "Data columns (total 6 columns):\n",
      " #   Column       Non-Null Count  Dtype \n",
      "---  ------       --------------  ----- \n",
      " 0   Tweet_count  1086 non-null   int64 \n",
      " 1   Username     1086 non-null   object\n",
      " 2   Text         1086 non-null   object\n",
      " 3   Created At   1086 non-null   object\n",
      " 4   Retweets     1086 non-null   int64 \n",
      " 5   Likes        1086 non-null   int64 \n",
      "dtypes: int64(3), object(3)\n",
      "memory usage: 51.0+ KB\n"
     ]
    }
   ],
   "source": [
    "# Check the info in the FAQS dataset\n",
    "tweets.info()"
   ]
  },
  {
   "cell_type": "markdown",
   "metadata": {},
   "source": [
    "This dataset contains 1,086 rows and 6 columns with no missing values.\n",
    "\n",
    "Columns & Data Types:\n",
    "- Tweet_count, Retweets, Likes → Integer (int64) (numeric values)\n",
    "- Username, Text, Created At → Object (string/text data)"
   ]
  },
  {
   "cell_type": "code",
   "execution_count": 7,
   "metadata": {},
   "outputs": [
    {
     "data": {
      "text/html": [
       "<div>\n",
       "<style scoped>\n",
       "    .dataframe tbody tr th:only-of-type {\n",
       "        vertical-align: middle;\n",
       "    }\n",
       "\n",
       "    .dataframe tbody tr th {\n",
       "        vertical-align: top;\n",
       "    }\n",
       "\n",
       "    .dataframe thead th {\n",
       "        text-align: right;\n",
       "    }\n",
       "</style>\n",
       "<table border=\"1\" class=\"dataframe\">\n",
       "  <thead>\n",
       "    <tr style=\"text-align: right;\">\n",
       "      <th></th>\n",
       "      <th>Tweet_count</th>\n",
       "      <th>Retweets</th>\n",
       "      <th>Likes</th>\n",
       "    </tr>\n",
       "  </thead>\n",
       "  <tbody>\n",
       "    <tr>\n",
       "      <th>count</th>\n",
       "      <td>1086.000000</td>\n",
       "      <td>1086.000000</td>\n",
       "      <td>1086.000000</td>\n",
       "    </tr>\n",
       "    <tr>\n",
       "      <th>mean</th>\n",
       "      <td>111.337017</td>\n",
       "      <td>65.476980</td>\n",
       "      <td>313.256906</td>\n",
       "    </tr>\n",
       "    <tr>\n",
       "      <th>std</th>\n",
       "      <td>66.098646</td>\n",
       "      <td>231.677925</td>\n",
       "      <td>895.040384</td>\n",
       "    </tr>\n",
       "    <tr>\n",
       "      <th>min</th>\n",
       "      <td>1.000000</td>\n",
       "      <td>0.000000</td>\n",
       "      <td>0.000000</td>\n",
       "    </tr>\n",
       "    <tr>\n",
       "      <th>25%</th>\n",
       "      <td>55.000000</td>\n",
       "      <td>1.000000</td>\n",
       "      <td>3.000000</td>\n",
       "    </tr>\n",
       "    <tr>\n",
       "      <th>50%</th>\n",
       "      <td>109.000000</td>\n",
       "      <td>5.000000</td>\n",
       "      <td>19.000000</td>\n",
       "    </tr>\n",
       "    <tr>\n",
       "      <th>75%</th>\n",
       "      <td>164.000000</td>\n",
       "      <td>39.000000</td>\n",
       "      <td>248.750000</td>\n",
       "    </tr>\n",
       "    <tr>\n",
       "      <th>max</th>\n",
       "      <td>251.000000</td>\n",
       "      <td>2451.000000</td>\n",
       "      <td>10281.000000</td>\n",
       "    </tr>\n",
       "  </tbody>\n",
       "</table>\n",
       "</div>"
      ],
      "text/plain": [
       "       Tweet_count     Retweets         Likes\n",
       "count  1086.000000  1086.000000   1086.000000\n",
       "mean    111.337017    65.476980    313.256906\n",
       "std      66.098646   231.677925    895.040384\n",
       "min       1.000000     0.000000      0.000000\n",
       "25%      55.000000     1.000000      3.000000\n",
       "50%     109.000000     5.000000     19.000000\n",
       "75%     164.000000    39.000000    248.750000\n",
       "max     251.000000  2451.000000  10281.000000"
      ]
     },
     "execution_count": 7,
     "metadata": {},
     "output_type": "execute_result"
    }
   ],
   "source": [
    "#Describing the tweeets columns\n",
    "tweets.describe()"
   ]
  },
  {
   "cell_type": "markdown",
   "metadata": {},
   "source": [
    "The dataset contains 1,086 tweets with high variability in engagement. Some tweets have zero likes/retweets, while top tweets reach 2,451 retweets and 10,281 likes. Most tweets get low engagement (median: 5 retweets, 19 likes)."
   ]
  },
  {
   "cell_type": "markdown",
   "metadata": {},
   "source": [
    "## Data cleaning"
   ]
  },
  {
   "cell_type": "markdown",
   "metadata": {},
   "source": [
    "### Accuracy"
   ]
  },
  {
   "cell_type": "code",
   "execution_count": 8,
   "metadata": {},
   "outputs": [
    {
     "data": {
      "text/plain": [
       "Question    0\n",
       "Answer      0\n",
       "dtype: int64"
      ]
     },
     "execution_count": 8,
     "metadata": {},
     "output_type": "execute_result"
    }
   ],
   "source": [
    "#Checkinng for nulls in the FAQS datasets\n",
    "data.isna().sum()"
   ]
  },
  {
   "cell_type": "markdown",
   "metadata": {},
   "source": [
    "There are no null values in the FAQS dataset."
   ]
  },
  {
   "cell_type": "code",
   "execution_count": 9,
   "metadata": {},
   "outputs": [
    {
     "data": {
      "text/plain": [
       "360"
      ]
     },
     "execution_count": 9,
     "metadata": {},
     "output_type": "execute_result"
    }
   ],
   "source": [
    "#Checking for duplicates in the FAQS dataset\n",
    "data.duplicated().sum()"
   ]
  },
  {
   "cell_type": "markdown",
   "metadata": {},
   "source": [
    "There are 360 duplicates in the FAQS dataset."
   ]
  },
  {
   "cell_type": "code",
   "execution_count": 10,
   "metadata": {},
   "outputs": [
    {
     "data": {
      "text/plain": [
       "14.21239636794315"
      ]
     },
     "execution_count": 10,
     "metadata": {},
     "output_type": "execute_result"
    }
   ],
   "source": [
    "# Calculating the percentage of duplicates\n",
    "duplicate_percentage = (data.duplicated().sum() / len(data)) * 100\n",
    "duplicate_percentage"
   ]
  },
  {
   "cell_type": "markdown",
   "metadata": {},
   "source": [
    "Since duplicates make up only 14.25% of the FAQs dataset, they are relatively small. Dropping them will ensure unique responses, improving chatbot efficiency and preventing redundant answers"
   ]
  },
  {
   "cell_type": "code",
   "execution_count": 11,
   "metadata": {},
   "outputs": [
    {
     "data": {
      "text/plain": [
       "Tweet_count    0\n",
       "Username       0\n",
       "Text           0\n",
       "Created At     0\n",
       "Retweets       0\n",
       "Likes          0\n",
       "dtype: int64"
      ]
     },
     "execution_count": 11,
     "metadata": {},
     "output_type": "execute_result"
    }
   ],
   "source": [
    "# Checking for null values in the tweets dataset\n",
    "tweets.isna().sum()"
   ]
  },
  {
   "cell_type": "markdown",
   "metadata": {},
   "source": [
    "There are no null values in the tweets data"
   ]
  },
  {
   "cell_type": "code",
   "execution_count": 12,
   "metadata": {},
   "outputs": [
    {
     "data": {
      "text/plain": [
       "12"
      ]
     },
     "execution_count": 12,
     "metadata": {},
     "output_type": "execute_result"
    }
   ],
   "source": [
    "# Checking for duplicates in the tweets dataset\n",
    "tweets.duplicated().sum()"
   ]
  },
  {
   "cell_type": "markdown",
   "metadata": {},
   "source": [
    "There are 12 duplicates in the tweets dataset"
   ]
  },
  {
   "cell_type": "code",
   "execution_count": 13,
   "metadata": {},
   "outputs": [
    {
     "data": {
      "text/plain": [
       "1.1049723756906076"
      ]
     },
     "execution_count": 13,
     "metadata": {},
     "output_type": "execute_result"
    }
   ],
   "source": [
    "# Calculating the percentage of duplicates\n",
    "duplicate_percentage_tweets = (tweets.duplicated().sum() / len(tweets)) * 100\n",
    "duplicate_percentage_tweets"
   ]
  },
  {
   "cell_type": "markdown",
   "metadata": {},
   "source": [
    "Since duplicates make up only 1.105% of the tweets dataset, they are relatively small. Dropping them will ensure unique responses, improving chatbot efficiency and preventing redundant answers"
   ]
  },
  {
   "cell_type": "markdown",
   "metadata": {},
   "source": [
    "### Validity"
   ]
  },
  {
   "cell_type": "code",
   "execution_count": 14,
   "metadata": {},
   "outputs": [
    {
     "data": {
      "text/html": [
       "<div>\n",
       "<style scoped>\n",
       "    .dataframe tbody tr th:only-of-type {\n",
       "        vertical-align: middle;\n",
       "    }\n",
       "\n",
       "    .dataframe tbody tr th {\n",
       "        vertical-align: top;\n",
       "    }\n",
       "\n",
       "    .dataframe thead th {\n",
       "        text-align: right;\n",
       "    }\n",
       "</style>\n",
       "<table border=\"1\" class=\"dataframe\">\n",
       "  <thead>\n",
       "    <tr style=\"text-align: right;\">\n",
       "      <th></th>\n",
       "      <th>Tweet_count</th>\n",
       "      <th>Username</th>\n",
       "      <th>Text</th>\n",
       "      <th>Created At</th>\n",
       "      <th>Retweets</th>\n",
       "      <th>Likes</th>\n",
       "      <th>Year</th>\n",
       "    </tr>\n",
       "  </thead>\n",
       "  <tbody>\n",
       "    <tr>\n",
       "      <th>0</th>\n",
       "      <td>1</td>\n",
       "      <td>Edtech East Africa</td>\n",
       "      <td>Let’s Talk Monday: EdTech Edition!\\nParents, d...</td>\n",
       "      <td>2025-01-20 07:20:46+00:00</td>\n",
       "      <td>1</td>\n",
       "      <td>3</td>\n",
       "      <td>2025</td>\n",
       "    </tr>\n",
       "    <tr>\n",
       "      <th>1</th>\n",
       "      <td>2</td>\n",
       "      <td>Edtech East Africa</td>\n",
       "      <td>Let’s Talk Monday: #EdTechMonday\\n\\nWith Kenya...</td>\n",
       "      <td>2025-01-27 08:45:00+00:00</td>\n",
       "      <td>1</td>\n",
       "      <td>0</td>\n",
       "      <td>2025</td>\n",
       "    </tr>\n",
       "    <tr>\n",
       "      <th>2</th>\n",
       "      <td>3</td>\n",
       "      <td>unknown</td>\n",
       "      <td>Education reforms under CBC are revolutionizin...</td>\n",
       "      <td>2025-01-20 09:16:39+00:00</td>\n",
       "      <td>0</td>\n",
       "      <td>0</td>\n",
       "      <td>2025</td>\n",
       "    </tr>\n",
       "    <tr>\n",
       "      <th>3</th>\n",
       "      <td>4</td>\n",
       "      <td>Kenya Girl Guides Association</td>\n",
       "      <td>Betty Kirui shares how the CBC education syste...</td>\n",
       "      <td>2024-12-16 07:32:44+00:00</td>\n",
       "      <td>1</td>\n",
       "      <td>2</td>\n",
       "      <td>2024</td>\n",
       "    </tr>\n",
       "    <tr>\n",
       "      <th>4</th>\n",
       "      <td>5</td>\n",
       "      <td>His/Him/He</td>\n",
       "      <td>The shift from 8-4-4 to CBC reflects Kenya's c...</td>\n",
       "      <td>2025-01-20 09:16:27+00:00</td>\n",
       "      <td>0</td>\n",
       "      <td>0</td>\n",
       "      <td>2025</td>\n",
       "    </tr>\n",
       "  </tbody>\n",
       "</table>\n",
       "</div>"
      ],
      "text/plain": [
       "   Tweet_count                       Username  \\\n",
       "0            1             Edtech East Africa   \n",
       "1            2             Edtech East Africa   \n",
       "2            3                        unknown   \n",
       "3            4  Kenya Girl Guides Association   \n",
       "4            5                     His/Him/He   \n",
       "\n",
       "                                                Text  \\\n",
       "0  Let’s Talk Monday: EdTech Edition!\\nParents, d...   \n",
       "1  Let’s Talk Monday: #EdTechMonday\\n\\nWith Kenya...   \n",
       "2  Education reforms under CBC are revolutionizin...   \n",
       "3  Betty Kirui shares how the CBC education syste...   \n",
       "4  The shift from 8-4-4 to CBC reflects Kenya's c...   \n",
       "\n",
       "                 Created At  Retweets  Likes  Year  \n",
       "0 2025-01-20 07:20:46+00:00         1      3  2025  \n",
       "1 2025-01-27 08:45:00+00:00         1      0  2025  \n",
       "2 2025-01-20 09:16:39+00:00         0      0  2025  \n",
       "3 2024-12-16 07:32:44+00:00         1      2  2024  \n",
       "4 2025-01-20 09:16:27+00:00         0      0  2025  "
      ]
     },
     "execution_count": 14,
     "metadata": {},
     "output_type": "execute_result"
    }
   ],
   "source": [
    "# Convert 'Created At' column to datetime format\n",
    "tweets['Created At'] = pd.to_datetime(tweets['Created At'])\n",
    "\n",
    "# Extract the year\n",
    "tweets['Year'] = tweets['Created At'].dt.year\n",
    "\n",
    "# Display the modified DataFrame\n",
    "tweets.head()"
   ]
  },
  {
   "cell_type": "markdown",
   "metadata": {},
   "source": [
    "### Completeness"
   ]
  },
  {
   "cell_type": "code",
   "execution_count": 15,
   "metadata": {
    "scrolled": true
   },
   "outputs": [
    {
     "data": {
      "text/html": [
       "<div>\n",
       "<style scoped>\n",
       "    .dataframe tbody tr th:only-of-type {\n",
       "        vertical-align: middle;\n",
       "    }\n",
       "\n",
       "    .dataframe tbody tr th {\n",
       "        vertical-align: top;\n",
       "    }\n",
       "\n",
       "    .dataframe thead th {\n",
       "        text-align: right;\n",
       "    }\n",
       "</style>\n",
       "<table border=\"1\" class=\"dataframe\">\n",
       "  <thead>\n",
       "    <tr style=\"text-align: right;\">\n",
       "      <th></th>\n",
       "      <th>Text</th>\n",
       "      <th>Retweets</th>\n",
       "      <th>Likes</th>\n",
       "      <th>Year</th>\n",
       "    </tr>\n",
       "  </thead>\n",
       "  <tbody>\n",
       "    <tr>\n",
       "      <th>0</th>\n",
       "      <td>Let’s Talk Monday: EdTech Edition!\\nParents, d...</td>\n",
       "      <td>1</td>\n",
       "      <td>3</td>\n",
       "      <td>2025</td>\n",
       "    </tr>\n",
       "    <tr>\n",
       "      <th>1</th>\n",
       "      <td>Let’s Talk Monday: #EdTechMonday\\n\\nWith Kenya...</td>\n",
       "      <td>1</td>\n",
       "      <td>0</td>\n",
       "      <td>2025</td>\n",
       "    </tr>\n",
       "    <tr>\n",
       "      <th>2</th>\n",
       "      <td>Education reforms under CBC are revolutionizin...</td>\n",
       "      <td>0</td>\n",
       "      <td>0</td>\n",
       "      <td>2025</td>\n",
       "    </tr>\n",
       "    <tr>\n",
       "      <th>3</th>\n",
       "      <td>Betty Kirui shares how the CBC education syste...</td>\n",
       "      <td>1</td>\n",
       "      <td>2</td>\n",
       "      <td>2024</td>\n",
       "    </tr>\n",
       "    <tr>\n",
       "      <th>4</th>\n",
       "      <td>The shift from 8-4-4 to CBC reflects Kenya's c...</td>\n",
       "      <td>0</td>\n",
       "      <td>0</td>\n",
       "      <td>2025</td>\n",
       "    </tr>\n",
       "  </tbody>\n",
       "</table>\n",
       "</div>"
      ],
      "text/plain": [
       "                                                Text  Retweets  Likes  Year\n",
       "0  Let’s Talk Monday: EdTech Edition!\\nParents, d...         1      3  2025\n",
       "1  Let’s Talk Monday: #EdTechMonday\\n\\nWith Kenya...         1      0  2025\n",
       "2  Education reforms under CBC are revolutionizin...         0      0  2025\n",
       "3  Betty Kirui shares how the CBC education syste...         1      2  2024\n",
       "4  The shift from 8-4-4 to CBC reflects Kenya's c...         0      0  2025"
      ]
     },
     "execution_count": 15,
     "metadata": {},
     "output_type": "execute_result"
    }
   ],
   "source": [
    "#Dropping irrelevant columns for the tweets dataset\n",
    "columns = tweets[[\"Tweet_count\", \"Username\", \"Created At\"]]\n",
    "tweets = tweets.drop(columns, axis = 1)\n",
    "#displaying the columns\n",
    "tweets.head()"
   ]
  },
  {
   "cell_type": "markdown",
   "metadata": {},
   "source": [
    "**Checking for outliers**"
   ]
  },
  {
   "cell_type": "code",
   "execution_count": 16,
   "metadata": {},
   "outputs": [
    {
     "data": {
      "image/png": "[encoded data removed]",
      "text/plain": [
       "<Figure size 432x288 with 1 Axes>"
      ]
     },
     "metadata": {
      "needs_background": "light"
     },
     "output_type": "display_data"
    }
   ],
   "source": [
    "# Checking for outliers for categorical columns in the tweets \n",
    "# Compute word count for tweets\n",
    "tweets['Tweet_length'] = tweets['Text'].apply(lambda x: len(x.split()))\n",
    "\n",
    "# Boxplot of text lengths\n",
    "sns.boxplot(data=tweets[['Tweet_length']])\n",
    "plt.show()"
   ]
  },
  {
   "cell_type": "markdown",
   "metadata": {},
   "source": [
    "There are no outliers in the tweets dataset"
   ]
  },
  {
   "cell_type": "code",
   "execution_count": 17,
   "metadata": {},
   "outputs": [
    {
     "data": {
      "image/png": "[encoded data removed]",
      "text/plain": [
       "<Figure size 432x288 with 1 Axes>"
      ]
     },
     "metadata": {
      "needs_background": "light"
     },
     "output_type": "display_data"
    }
   ],
   "source": [
    "# Plot boxplots for numerical column to check for outliers for the tweet dataset\n",
    "sns.boxplot(data=tweets[['Tweet_length','Retweets', 'Likes', 'Year']])\n",
    "plt.show()\n"
   ]
  },
  {
   "cell_type": "markdown",
   "metadata": {},
   "source": [
    "- Tweet_length: Data is concentrated near the lower end with a small range and no outliers.\n",
    "  \n",
    "- Retweets: Larger data spread with some outliers indicating a few tweets received significantly more retweets.\n",
    "\n",
    "- Likes: Wide data range with many outliers; some tweets received up to nearly 10,000 likes.\n",
    "\n",
    "- Year: Narrow data range, indicating minimal variation around a specific year with no outliers."
   ]
  },
  {
   "cell_type": "markdown",
   "metadata": {},
   "source": [
    "The tweets dataset displays to have outliers for retweets and likes columns. The outliers will not be dropped since outliers in the tweets represent real user engagements. Keeping them will ensure that the analysis employs diverse inputs, improving recommendation accuracy and generalization without losing important contextual variations."
   ]
  },
  {
   "cell_type": "code",
   "execution_count": 18,
   "metadata": {},
   "outputs": [
    {
     "data": {
      "image/png": "[encoded data removed]",
      "text/plain": [
       "<Figure size 432x288 with 1 Axes>"
      ]
     },
     "metadata": {
      "needs_background": "light"
     },
     "output_type": "display_data"
    }
   ],
   "source": [
    "# Checking for outliers for categorical columns in the FAQS datasets\n",
    "# Compute word count for question and answer columns\n",
    "data['Question_length'] = data['Question'].apply(lambda x: len(x.split()))\n",
    "data['Answer_length'] = data['Answer'].apply(lambda x: len(x.split()))\n",
    "\n",
    "# Boxplot of question lengths and answer lengths\n",
    "sns.boxplot(data=data[['Question_length', 'Answer_length']])\n",
    "plt.show()"
   ]
  },
  {
   "cell_type": "markdown",
   "metadata": {},
   "source": [
    "The FAQS dataset displays to have outliers for both columns. The outliers will not be dropped since outliers in FAQs represent real user queries, including rare or detailed questions. Keeping them will ensure that the chatbot learns diverse inputs, improving response accuracy and generalization without losing important contextual variations."
   ]
  },
  {
   "cell_type": "markdown",
   "metadata": {},
   "source": [
    "### Consistency and Uniformity"
   ]
  },
  {
   "cell_type": "code",
   "execution_count": 19,
   "metadata": {},
   "outputs": [
    {
     "data": {
      "text/plain": [
       "0"
      ]
     },
     "execution_count": 19,
     "metadata": {},
     "output_type": "execute_result"
    }
   ],
   "source": [
    "# Dropping the duplicates in the FAQS dataset\n",
    "data = data.drop_duplicates()\n",
    "data.duplicated().sum()"
   ]
  },
  {
   "cell_type": "markdown",
   "metadata": {},
   "source": [
    "There are no duplicates.All duplicates are dropped in the FAQS dataset"
   ]
  },
  {
   "cell_type": "code",
   "execution_count": 20,
   "metadata": {},
   "outputs": [
    {
     "data": {
      "text/plain": [
       "Question           object\n",
       "Answer             object\n",
       "Question_length     int64\n",
       "Answer_length       int64\n",
       "dtype: object"
      ]
     },
     "execution_count": 20,
     "metadata": {},
     "output_type": "execute_result"
    }
   ],
   "source": [
    "#Checking for datatypes in the FAQS dataset\n",
    "data.dtypes"
   ]
  },
  {
   "cell_type": "markdown",
   "metadata": {},
   "source": [
    "Question → object: Stores text-based questions in string format.\n",
    "\n",
    "Answer → object: Contains text-based answers corresponding to the questions.\n",
    "\n",
    "Question_length → int64: Represents the number of words or characters in each question as an integer."
   ]
  },
  {
   "cell_type": "code",
   "execution_count": 21,
   "metadata": {},
   "outputs": [
    {
     "data": {
      "text/html": [
       "<div>\n",
       "<style scoped>\n",
       "    .dataframe tbody tr th:only-of-type {\n",
       "        vertical-align: middle;\n",
       "    }\n",
       "\n",
       "    .dataframe tbody tr th {\n",
       "        vertical-align: top;\n",
       "    }\n",
       "\n",
       "    .dataframe thead th {\n",
       "        text-align: right;\n",
       "    }\n",
       "</style>\n",
       "<table border=\"1\" class=\"dataframe\">\n",
       "  <thead>\n",
       "    <tr style=\"text-align: right;\">\n",
       "      <th></th>\n",
       "      <th>Question</th>\n",
       "      <th>Answer</th>\n",
       "      <th>Question_length</th>\n",
       "      <th>Answer_length</th>\n",
       "    </tr>\n",
       "  </thead>\n",
       "  <tbody>\n",
       "    <tr>\n",
       "      <th>0</th>\n",
       "      <td>What are the main objectives of the Competency...</td>\n",
       "      <td>The CBC aims to equip learners with practical ...</td>\n",
       "      <td>10</td>\n",
       "      <td>18</td>\n",
       "    </tr>\n",
       "    <tr>\n",
       "      <th>1</th>\n",
       "      <td>How does CBC differ from the 8-4-4 education s...</td>\n",
       "      <td>Unlike 8-4-4, which focused on exams and conte...</td>\n",
       "      <td>9</td>\n",
       "      <td>20</td>\n",
       "    </tr>\n",
       "    <tr>\n",
       "      <th>2</th>\n",
       "      <td>What are the key levels in the CBC structure?</td>\n",
       "      <td>CBC is divided into three main levels: Early Y...</td>\n",
       "      <td>9</td>\n",
       "      <td>23</td>\n",
       "    </tr>\n",
       "    <tr>\n",
       "      <th>3</th>\n",
       "      <td>What role do parents play in CBC?</td>\n",
       "      <td>Parents are actively involved in their child's...</td>\n",
       "      <td>7</td>\n",
       "      <td>17</td>\n",
       "    </tr>\n",
       "    <tr>\n",
       "      <th>4</th>\n",
       "      <td>How is learner progress assessed under CBC?</td>\n",
       "      <td>Assessment is continuous and includes practica...</td>\n",
       "      <td>7</td>\n",
       "      <td>18</td>\n",
       "    </tr>\n",
       "    <tr>\n",
       "      <th>...</th>\n",
       "      <td>...</td>\n",
       "      <td>...</td>\n",
       "      <td>...</td>\n",
       "      <td>...</td>\n",
       "    </tr>\n",
       "    <tr>\n",
       "      <th>2495</th>\n",
       "      <td>What are the academic and training requirement...</td>\n",
       "      <td>CBC teachers need a diploma in education along...</td>\n",
       "      <td>10</td>\n",
       "      <td>20</td>\n",
       "    </tr>\n",
       "    <tr>\n",
       "      <th>2496</th>\n",
       "      <td>What credentials should CBC teachers possess?</td>\n",
       "      <td>To effectively implement CBC, teachers require...</td>\n",
       "      <td>6</td>\n",
       "      <td>14</td>\n",
       "    </tr>\n",
       "    <tr>\n",
       "      <th>2497</th>\n",
       "      <td>What are the minimum requirements to teach CBC...</td>\n",
       "      <td>Teachers must complete structured competency-b...</td>\n",
       "      <td>10</td>\n",
       "      <td>15</td>\n",
       "    </tr>\n",
       "    <tr>\n",
       "      <th>2516</th>\n",
       "      <td>Which subjects are compulsory in Junior Second...</td>\n",
       "      <td>There are nine compulsory learning areas for J...</td>\n",
       "      <td>9</td>\n",
       "      <td>30</td>\n",
       "    </tr>\n",
       "    <tr>\n",
       "      <th>2519</th>\n",
       "      <td>What courses are offered in CBC Junior Secondary?</td>\n",
       "      <td>CBC Junior Secondary includes compulsory subje...</td>\n",
       "      <td>8</td>\n",
       "      <td>23</td>\n",
       "    </tr>\n",
       "  </tbody>\n",
       "</table>\n",
       "<p>2173 rows × 4 columns</p>\n",
       "</div>"
      ],
      "text/plain": [
       "                                               Question  \\\n",
       "0     What are the main objectives of the Competency...   \n",
       "1     How does CBC differ from the 8-4-4 education s...   \n",
       "2         What are the key levels in the CBC structure?   \n",
       "3                     What role do parents play in CBC?   \n",
       "4           How is learner progress assessed under CBC?   \n",
       "...                                                 ...   \n",
       "2495  What are the academic and training requirement...   \n",
       "2496      What credentials should CBC teachers possess?   \n",
       "2497  What are the minimum requirements to teach CBC...   \n",
       "2516  Which subjects are compulsory in Junior Second...   \n",
       "2519  What courses are offered in CBC Junior Secondary?   \n",
       "\n",
       "                                                 Answer  Question_length  \\\n",
       "0     The CBC aims to equip learners with practical ...               10   \n",
       "1     Unlike 8-4-4, which focused on exams and conte...                9   \n",
       "2     CBC is divided into three main levels: Early Y...                9   \n",
       "3     Parents are actively involved in their child's...                7   \n",
       "4     Assessment is continuous and includes practica...                7   \n",
       "...                                                 ...              ...   \n",
       "2495  CBC teachers need a diploma in education along...               10   \n",
       "2496  To effectively implement CBC, teachers require...                6   \n",
       "2497  Teachers must complete structured competency-b...               10   \n",
       "2516  There are nine compulsory learning areas for J...                9   \n",
       "2519  CBC Junior Secondary includes compulsory subje...                8   \n",
       "\n",
       "      Answer_length  \n",
       "0                18  \n",
       "1                20  \n",
       "2                23  \n",
       "3                17  \n",
       "4                18  \n",
       "...             ...  \n",
       "2495             20  \n",
       "2496             14  \n",
       "2497             15  \n",
       "2516             30  \n",
       "2519             23  \n",
       "\n",
       "[2173 rows x 4 columns]"
      ]
     },
     "execution_count": 21,
     "metadata": {},
     "output_type": "execute_result"
    }
   ],
   "source": [
    "# Displaying the cleaned FAQS dataset\n",
    "data"
   ]
  },
  {
   "cell_type": "code",
   "execution_count": 22,
   "metadata": {},
   "outputs": [
    {
     "data": {
      "text/plain": [
       "0"
      ]
     },
     "execution_count": 22,
     "metadata": {},
     "output_type": "execute_result"
    }
   ],
   "source": [
    "# Dropping the duplicates in the tweets dataset\n",
    "tweets = tweets.drop_duplicates()\n",
    "tweets.duplicated().sum()"
   ]
  },
  {
   "cell_type": "code",
   "execution_count": 23,
   "metadata": {},
   "outputs": [
    {
     "data": {
      "text/html": [
       "<div>\n",
       "<style scoped>\n",
       "    .dataframe tbody tr th:only-of-type {\n",
       "        vertical-align: middle;\n",
       "    }\n",
       "\n",
       "    .dataframe tbody tr th {\n",
       "        vertical-align: top;\n",
       "    }\n",
       "\n",
       "    .dataframe thead th {\n",
       "        text-align: right;\n",
       "    }\n",
       "</style>\n",
       "<table border=\"1\" class=\"dataframe\">\n",
       "  <thead>\n",
       "    <tr style=\"text-align: right;\">\n",
       "      <th></th>\n",
       "      <th>Text</th>\n",
       "      <th>Retweets</th>\n",
       "      <th>Likes</th>\n",
       "      <th>Year</th>\n",
       "      <th>Tweet_length</th>\n",
       "    </tr>\n",
       "  </thead>\n",
       "  <tbody>\n",
       "    <tr>\n",
       "      <th>0</th>\n",
       "      <td>Let’s Talk Monday: EdTech Edition!\\nParents, d...</td>\n",
       "      <td>1</td>\n",
       "      <td>3</td>\n",
       "      <td>2025</td>\n",
       "      <td>44</td>\n",
       "    </tr>\n",
       "    <tr>\n",
       "      <th>1</th>\n",
       "      <td>Let’s Talk Monday: #EdTechMonday\\n\\nWith Kenya...</td>\n",
       "      <td>1</td>\n",
       "      <td>0</td>\n",
       "      <td>2025</td>\n",
       "      <td>38</td>\n",
       "    </tr>\n",
       "    <tr>\n",
       "      <th>2</th>\n",
       "      <td>Education reforms under CBC are revolutionizin...</td>\n",
       "      <td>0</td>\n",
       "      <td>0</td>\n",
       "      <td>2025</td>\n",
       "      <td>27</td>\n",
       "    </tr>\n",
       "    <tr>\n",
       "      <th>3</th>\n",
       "      <td>Betty Kirui shares how the CBC education syste...</td>\n",
       "      <td>1</td>\n",
       "      <td>2</td>\n",
       "      <td>2024</td>\n",
       "      <td>36</td>\n",
       "    </tr>\n",
       "    <tr>\n",
       "      <th>4</th>\n",
       "      <td>The shift from 8-4-4 to CBC reflects Kenya's c...</td>\n",
       "      <td>0</td>\n",
       "      <td>0</td>\n",
       "      <td>2025</td>\n",
       "      <td>24</td>\n",
       "    </tr>\n",
       "    <tr>\n",
       "      <th>...</th>\n",
       "      <td>...</td>\n",
       "      <td>...</td>\n",
       "      <td>...</td>\n",
       "      <td>...</td>\n",
       "      <td>...</td>\n",
       "    </tr>\n",
       "    <tr>\n",
       "      <th>935</th>\n",
       "      <td>IF EDUCATION IS EXPENSIVE THE GATES OF PRISON ...</td>\n",
       "      <td>5</td>\n",
       "      <td>9</td>\n",
       "      <td>2021</td>\n",
       "      <td>48</td>\n",
       "    </tr>\n",
       "    <tr>\n",
       "      <th>938</th>\n",
       "      <td>Why is CBC too expensive and demanding for par...</td>\n",
       "      <td>4</td>\n",
       "      <td>39</td>\n",
       "      <td>2021</td>\n",
       "      <td>11</td>\n",
       "    </tr>\n",
       "    <tr>\n",
       "      <th>943</th>\n",
       "      <td>Ongoing Grade 3 Assessment: There have been co...</td>\n",
       "      <td>4</td>\n",
       "      <td>5</td>\n",
       "      <td>2019</td>\n",
       "      <td>44</td>\n",
       "    </tr>\n",
       "    <tr>\n",
       "      <th>945</th>\n",
       "      <td>Over one-third of our radio shows participants...</td>\n",
       "      <td>0</td>\n",
       "      <td>1</td>\n",
       "      <td>2023</td>\n",
       "      <td>34</td>\n",
       "    </tr>\n",
       "    <tr>\n",
       "      <th>961</th>\n",
       "      <td>Education CS. Prof George Magoha has assured g...</td>\n",
       "      <td>1</td>\n",
       "      <td>1</td>\n",
       "      <td>2022</td>\n",
       "      <td>40</td>\n",
       "    </tr>\n",
       "  </tbody>\n",
       "</table>\n",
       "<p>725 rows × 5 columns</p>\n",
       "</div>"
      ],
      "text/plain": [
       "                                                  Text  Retweets  Likes  Year  \\\n",
       "0    Let’s Talk Monday: EdTech Edition!\\nParents, d...         1      3  2025   \n",
       "1    Let’s Talk Monday: #EdTechMonday\\n\\nWith Kenya...         1      0  2025   \n",
       "2    Education reforms under CBC are revolutionizin...         0      0  2025   \n",
       "3    Betty Kirui shares how the CBC education syste...         1      2  2024   \n",
       "4    The shift from 8-4-4 to CBC reflects Kenya's c...         0      0  2025   \n",
       "..                                                 ...       ...    ...   ...   \n",
       "935  IF EDUCATION IS EXPENSIVE THE GATES OF PRISON ...         5      9  2021   \n",
       "938  Why is CBC too expensive and demanding for par...         4     39  2021   \n",
       "943  Ongoing Grade 3 Assessment: There have been co...         4      5  2019   \n",
       "945  Over one-third of our radio shows participants...         0      1  2023   \n",
       "961  Education CS. Prof George Magoha has assured g...         1      1  2022   \n",
       "\n",
       "     Tweet_length  \n",
       "0              44  \n",
       "1              38  \n",
       "2              27  \n",
       "3              36  \n",
       "4              24  \n",
       "..            ...  \n",
       "935            48  \n",
       "938            11  \n",
       "943            44  \n",
       "945            34  \n",
       "961            40  \n",
       "\n",
       "[725 rows x 5 columns]"
      ]
     },
     "execution_count": 23,
     "metadata": {},
     "output_type": "execute_result"
    }
   ],
   "source": [
    "tweets"
   ]
  },
  {
   "cell_type": "markdown",
   "metadata": {},
   "source": [
    "There are no duplicates.All duplicates are dropped in the tweets dataset"
   ]
  },
  {
   "cell_type": "code",
   "execution_count": 24,
   "metadata": {},
   "outputs": [
    {
     "data": {
      "text/plain": [
       "Text            object\n",
       "Retweets         int64\n",
       "Likes            int64\n",
       "Year             int64\n",
       "Tweet_length     int64\n",
       "dtype: object"
      ]
     },
     "execution_count": 24,
     "metadata": {},
     "output_type": "execute_result"
    }
   ],
   "source": [
    "#Checking for datatypes in the tweets dataset\n",
    "tweets.dtypes"
   ]
  },
  {
   "cell_type": "markdown",
   "metadata": {},
   "source": [
    "- Text → object: Contains tweet content in text format.\n",
    "\n",
    "- Retweets → int64: Stores the number of times a tweet was retweeted as an integer.\n",
    "\n",
    "- Likes → int64: Represents the number of likes a tweet received as an integer.\n",
    "\n",
    "- Year → int32: Indicates the year the tweet was posted.\n",
    "\n",
    "- Tweet_length → int64: Measures the length of the tweet (in characters or words) as an integer."
   ]
  },
  {
   "cell_type": "code",
   "execution_count": 25,
   "metadata": {
    "scrolled": true
   },
   "outputs": [
    {
     "data": {
      "text/html": [
       "<div>\n",
       "<style scoped>\n",
       "    .dataframe tbody tr th:only-of-type {\n",
       "        vertical-align: middle;\n",
       "    }\n",
       "\n",
       "    .dataframe tbody tr th {\n",
       "        vertical-align: top;\n",
       "    }\n",
       "\n",
       "    .dataframe thead th {\n",
       "        text-align: right;\n",
       "    }\n",
       "</style>\n",
       "<table border=\"1\" class=\"dataframe\">\n",
       "  <thead>\n",
       "    <tr style=\"text-align: right;\">\n",
       "      <th></th>\n",
       "      <th>Text</th>\n",
       "      <th>Retweets</th>\n",
       "      <th>Likes</th>\n",
       "      <th>Year</th>\n",
       "      <th>Tweet_length</th>\n",
       "    </tr>\n",
       "  </thead>\n",
       "  <tbody>\n",
       "    <tr>\n",
       "      <th>0</th>\n",
       "      <td>Let’s Talk Monday: EdTech Edition!\\nParents, d...</td>\n",
       "      <td>1</td>\n",
       "      <td>3</td>\n",
       "      <td>2025</td>\n",
       "      <td>44</td>\n",
       "    </tr>\n",
       "    <tr>\n",
       "      <th>1</th>\n",
       "      <td>Let’s Talk Monday: #EdTechMonday\\n\\nWith Kenya...</td>\n",
       "      <td>1</td>\n",
       "      <td>0</td>\n",
       "      <td>2025</td>\n",
       "      <td>38</td>\n",
       "    </tr>\n",
       "    <tr>\n",
       "      <th>2</th>\n",
       "      <td>Education reforms under CBC are revolutionizin...</td>\n",
       "      <td>0</td>\n",
       "      <td>0</td>\n",
       "      <td>2025</td>\n",
       "      <td>27</td>\n",
       "    </tr>\n",
       "    <tr>\n",
       "      <th>3</th>\n",
       "      <td>Betty Kirui shares how the CBC education syste...</td>\n",
       "      <td>1</td>\n",
       "      <td>2</td>\n",
       "      <td>2024</td>\n",
       "      <td>36</td>\n",
       "    </tr>\n",
       "    <tr>\n",
       "      <th>4</th>\n",
       "      <td>The shift from 8-4-4 to CBC reflects Kenya's c...</td>\n",
       "      <td>0</td>\n",
       "      <td>0</td>\n",
       "      <td>2025</td>\n",
       "      <td>24</td>\n",
       "    </tr>\n",
       "    <tr>\n",
       "      <th>...</th>\n",
       "      <td>...</td>\n",
       "      <td>...</td>\n",
       "      <td>...</td>\n",
       "      <td>...</td>\n",
       "      <td>...</td>\n",
       "    </tr>\n",
       "    <tr>\n",
       "      <th>935</th>\n",
       "      <td>IF EDUCATION IS EXPENSIVE THE GATES OF PRISON ...</td>\n",
       "      <td>5</td>\n",
       "      <td>9</td>\n",
       "      <td>2021</td>\n",
       "      <td>48</td>\n",
       "    </tr>\n",
       "    <tr>\n",
       "      <th>938</th>\n",
       "      <td>Why is CBC too expensive and demanding for par...</td>\n",
       "      <td>4</td>\n",
       "      <td>39</td>\n",
       "      <td>2021</td>\n",
       "      <td>11</td>\n",
       "    </tr>\n",
       "    <tr>\n",
       "      <th>943</th>\n",
       "      <td>Ongoing Grade 3 Assessment: There have been co...</td>\n",
       "      <td>4</td>\n",
       "      <td>5</td>\n",
       "      <td>2019</td>\n",
       "      <td>44</td>\n",
       "    </tr>\n",
       "    <tr>\n",
       "      <th>945</th>\n",
       "      <td>Over one-third of our radio shows participants...</td>\n",
       "      <td>0</td>\n",
       "      <td>1</td>\n",
       "      <td>2023</td>\n",
       "      <td>34</td>\n",
       "    </tr>\n",
       "    <tr>\n",
       "      <th>961</th>\n",
       "      <td>Education CS. Prof George Magoha has assured g...</td>\n",
       "      <td>1</td>\n",
       "      <td>1</td>\n",
       "      <td>2022</td>\n",
       "      <td>40</td>\n",
       "    </tr>\n",
       "  </tbody>\n",
       "</table>\n",
       "<p>725 rows × 5 columns</p>\n",
       "</div>"
      ],
      "text/plain": [
       "                                                  Text  Retweets  Likes  Year  \\\n",
       "0    Let’s Talk Monday: EdTech Edition!\\nParents, d...         1      3  2025   \n",
       "1    Let’s Talk Monday: #EdTechMonday\\n\\nWith Kenya...         1      0  2025   \n",
       "2    Education reforms under CBC are revolutionizin...         0      0  2025   \n",
       "3    Betty Kirui shares how the CBC education syste...         1      2  2024   \n",
       "4    The shift from 8-4-4 to CBC reflects Kenya's c...         0      0  2025   \n",
       "..                                                 ...       ...    ...   ...   \n",
       "935  IF EDUCATION IS EXPENSIVE THE GATES OF PRISON ...         5      9  2021   \n",
       "938  Why is CBC too expensive and demanding for par...         4     39  2021   \n",
       "943  Ongoing Grade 3 Assessment: There have been co...         4      5  2019   \n",
       "945  Over one-third of our radio shows participants...         0      1  2023   \n",
       "961  Education CS. Prof George Magoha has assured g...         1      1  2022   \n",
       "\n",
       "     Tweet_length  \n",
       "0              44  \n",
       "1              38  \n",
       "2              27  \n",
       "3              36  \n",
       "4              24  \n",
       "..            ...  \n",
       "935            48  \n",
       "938            11  \n",
       "943            44  \n",
       "945            34  \n",
       "961            40  \n",
       "\n",
       "[725 rows x 5 columns]"
      ]
     },
     "execution_count": 25,
     "metadata": {},
     "output_type": "execute_result"
    }
   ],
   "source": [
    "# Displaying the cleaned tweets dataset\n",
    "tweets"
   ]
  },
  {
   "cell_type": "markdown",
   "metadata": {},
   "source": [
    "# EDA"
   ]
  },
  {
   "cell_type": "markdown",
   "metadata": {},
   "source": [
    "**1. Checking the distribution of the tweets length, question length and answer length**"
   ]
  },
  {
   "cell_type": "code",
   "execution_count": 26,
   "metadata": {
    "scrolled": true
   },
   "outputs": [
    {
     "data": {
      "image/png": "[encoded data removed]",
      "text/plain": [
       "<Figure size 720x360 with 1 Axes>"
      ]
     },
     "metadata": {
      "needs_background": "light"
     },
     "output_type": "display_data"
    }
   ],
   "source": [
    "plt.figure(figsize=(10, 5))\n",
    "\n",
    "sns.kdeplot(data=tweets, x=\"Tweet_length\", label=\"Tweet_length\", fill=True, color=\"green\")\n",
    "sns.kdeplot(data=data, x=\"Question_length\", label=\"Question_length\", fill=True, color=\"orange\")\n",
    "sns.kdeplot(data=data, x=\"Answer_length\", label=\"Answer_length\", fill=True, color=\"blue\")\n",
    "\n",
    "plt.title(\"Distribution of Tweet, Question, and Answer Lengths\")\n",
    "plt.xlabel(\"Length\")\n",
    "plt.ylabel(\"Density\")\n",
    "plt.legend()\n",
    "plt.show()"
   ]
  },
  {
   "cell_type": "markdown",
   "metadata": {},
   "source": [
    "- Question Length (Orange): Most questions are short, with a peak below 10 words and few long questions this may be so because they need to be precise and to the point.\n",
    "- Answer Length (Blue): Answers vary in length, peaking at 10–20 words, with some exceeding 30 words. The Answers are more variable, suggesting that responses depend on the complexity of the question.\n",
    "- Tweet Length (Green): Tweets have a broad distribution, indicating significant variation, with some being more detailed, which is expected since tweets can be concise or detailed."
   ]
  },
  {
   "cell_type": "markdown",
   "metadata": {},
   "source": [
    "**2.To analyze the question column in the FAQS dataset to identify the most frequently asked queries and common keywords**"
   ]
  },
  {
   "cell_type": "code",
   "execution_count": 27,
   "metadata": {},
   "outputs": [
    {
     "data": {
      "image/png": "[encoded data removed]",
      "text/plain": [
       "<Figure size 864x432 with 1 Axes>"
      ]
     },
     "metadata": {
      "needs_background": "light"
     },
     "output_type": "display_data"
    }
   ],
   "source": [
    "# Top 10 most frequently asked questions\n",
    "top_questions = data['Question'].value_counts().head(10)\n",
    "plt.figure(figsize=(12, 6))\n",
    "sns.barplot(x=top_questions.values, y=top_questions.index, palette='Blues_r')\n",
    "plt.title('Top 10 Most Frequently Asked Questions')\n",
    "plt.xlabel('Frequency')\n",
    "plt.ylabel('Question')\n",
    "plt.show()"
   ]
  },
  {
   "cell_type": "markdown",
   "metadata": {},
   "source": [
    "The graph displays the top 10 most frequently asked questions about CBC (Competency-Based Curriculum). The most common inquiries focus on self-expression, agricultural education, rural support, creativity, civic responsibility, innovation, teacher support, extracurricular activities, ethical decision-making, and financial literacy, highlighting key concerns in CBC implementation."
   ]
  },
  {
   "cell_type": "markdown",
   "metadata": {},
   "source": [
    "**3.Displaying the common words from the questions column**"
   ]
  },
  {
   "cell_type": "code",
   "execution_count": 29,
   "metadata": {
    "scrolled": true
   },
   "outputs": [
    {
     "data": {
      "image/png": "[encoded data removed]",
      "text/plain": [
       "<Figure size 720x360 with 1 Axes>"
      ]
     },
     "metadata": {
      "needs_background": "light"
     },
     "output_type": "display_data"
    }
   ],
   "source": [
    "\n",
    "stop_words = set(stopwords.words('english'))\n",
    "\n",
    "def preprocess_text(text):\n",
    "    \"\"\"Lowercase, remove special characters, tokenize, and remove stopwords.\"\"\"\n",
    "    text = text.lower()  # Convert to lowercase\n",
    "    text = re.sub(r'[^a-z\\s]', '', text)  # Remove special characters\n",
    "    words = word_tokenize(text)  # Tokenize\n",
    "    words = [word for word in words if word not in stop_words]  # Remove stopwords\n",
    "    return \" \".join(words)  # Return as a single string\n",
    "# Preprocess the text data\n",
    "data['cleaned_text'] = data['Question'].apply(preprocess_text)\n",
    "\n",
    "# Combine all text into one large string\n",
    "text_data = \" \".join(data['cleaned_text'])\n",
    "\n",
    "# Generate WordCloud\n",
    "wordcloud = WordCloud(width=800, height=400, background_color='white', colormap='Blues').generate(text_data)\n",
    "\n",
    "# Plot the WordCloud\n",
    "plt.figure(figsize=(10, 5))\n",
    "plt.imshow(wordcloud, interpolation='bilinear')\n",
    "plt.axis(\"off\")  # Hide axis\n",
    "plt.title(\"WordCloud of the FAQs Dataset\")\n",
    "plt.show()"
   ]
  },
  {
   "cell_type": "markdown",
   "metadata": {},
   "source": [
    "The word cloud visualization highlights the most frequently occurring words in the FAQs dataset related to CBC (Competency-Based Curriculum). The larger and bolder the word, the more often it appears in the dataset.\n",
    "\n",
    "- The most prominent words are \"CBC,\" \"learning,\" \"learner,\" \"student,\" \"education,\" and \"teacher\"—suggest that discussions mainly focus on students, educators, and learning strategies.\n",
    "\n",
    "- Other words like \"curriculum,\" \"promote,\" \"role,\" \"skill,\" \"grade,\" \"level,\" and \"support\" suggest that the FAQs focus on curriculum development, skill enhancement, and educational support within CBC."
   ]
  },
  {
   "cell_type": "markdown",
   "metadata": {},
   "source": [
    "**4.To Identify tweets engagement patterns over the years**"
   ]
  },
  {
   "cell_type": "code",
   "execution_count": 30,
   "metadata": {},
   "outputs": [
    {
     "data": {
      "image/png": "[encoded data removed]",
      "text/plain": [
       "<Figure size 720x432 with 1 Axes>"
      ]
     },
     "metadata": {
      "needs_background": "light"
     },
     "output_type": "display_data"
    }
   ],
   "source": [
    "# Grouping by Year and calculating the average Likes and Retweets\n",
    "avg_engagement = tweets.groupby('Year')[['Likes', 'Retweets']].mean().reset_index()\n",
    "\n",
    "plt.figure(figsize=(10, 6))\n",
    "\n",
    "# Plotting average likes over time\n",
    "sns.lineplot(x='Year', y='Likes', data=avg_engagement, label='Average Likes', marker='o')\n",
    "\n",
    "# Plotting average retweets over time\n",
    "sns.lineplot(x='Year', y='Retweets', data=avg_engagement, label='Average Retweets', marker='o')\n",
    "\n",
    "plt.title('Average Engagement (Likes and Retweets) Over Time')\n",
    "plt.xlabel('Year')\n",
    "plt.ylabel('Average Engagement')\n",
    "plt.legend()\n",
    "plt.grid(True)\n",
    "plt.show()\n"
   ]
  },
  {
   "cell_type": "markdown",
   "metadata": {},
   "source": [
    "- The graph shows average engagement (likes and retweets) over time from 2017 to 2025. Likes peaked around 2022, followed by a decline, while retweets peaked in 2018 and decreased significantly. Engagement dropped post-2022 but showed slight recovery in 2025."
   ]
  },
  {
   "cell_type": "markdown",
   "metadata": {},
   "source": [
    "**5.To display the number of tweets over the years**"
   ]
  },
  {
   "cell_type": "code",
   "execution_count": 31,
   "metadata": {},
   "outputs": [
    {
     "data": {
      "image/png": "[encoded data removed]",
      "text/plain": [
       "<Figure size 720x432 with 1 Axes>"
      ]
     },
     "metadata": {
      "needs_background": "light"
     },
     "output_type": "display_data"
    }
   ],
   "source": [
    "# Grouping by Year and calculating tweet count per year\n",
    "tweet_count = tweets.groupby('Year')['Text'].count().reset_index()\n",
    "tweet_count.columns = ['Year', 'Tweet_Count']  \n",
    "\n",
    "plt.figure(figsize=(10, 6))\n",
    "\n",
    "# Plotting tweet count over time\n",
    "sns.lineplot(x='Year', y='Tweet_Count', data=tweet_count, label='Tweet Count', marker='o')\n",
    "plt.title('Tweet Count Over the Years')\n",
    "plt.xlabel('Year')\n",
    "plt.ylabel('Tweet Count')\n",
    "plt.grid(True)\n",
    "plt.show()"
   ]
  },
  {
   "cell_type": "markdown",
   "metadata": {},
   "source": [
    "- The graph represents tweet count over the years (2017-2025). Tweet activity remained low until 2020, then surged significantly, peaking in 2024. A slight decline is observed in 2025, but overall, engagement remains high."
   ]
  },
  {
   "cell_type": "markdown",
   "metadata": {},
   "source": [
    "**6.To examine the relationship between retweets and likes on tweets**"
   ]
  },
  {
   "cell_type": "code",
   "execution_count": 32,
   "metadata": {},
   "outputs": [
    {
     "data": {
      "image/png": "[encoded data removed]",
      "text/plain": [
       "<Figure size 576x432 with 1 Axes>"
      ]
     },
     "metadata": {
      "needs_background": "light"
     },
     "output_type": "display_data"
    },
    {
     "name": "stdout",
     "output_type": "stream",
     "text": [
      "Correlation between Likes and Retweets: 0.9175776970837106\n"
     ]
    }
   ],
   "source": [
    "# Calculating the correlation between Likes and Retweets\n",
    "correlation = tweets[['Likes', 'Retweets']].corr()\n",
    "\n",
    "plt.figure(figsize=(8, 6))\n",
    "\n",
    "# Scatter plot to visualize the relationship between Retweets and Likes\n",
    "sns.scatterplot(x='Likes', y='Retweets', data=tweets)\n",
    "plt.title('Retweets vs Likes Correlation')\n",
    "plt.xlabel('Likes')\n",
    "plt.ylabel('Retweets')\n",
    "plt.grid(True)\n",
    "plt.show()\n",
    "\n",
    "# Print the correlation value\n",
    "print(f\"Correlation between Likes and Retweets: {correlation.iloc[0, 1]}\")\n"
   ]
  },
  {
   "cell_type": "markdown",
   "metadata": {},
   "source": [
    "- There is a high correlation of 0.92 between likes and retweets highlighting that there is a strong relationship between retweets and likes. This suggests that tweets with more retweets tend to also receive more likes, implying that content with high engagement in one metric often performs well in the other."
   ]
  },
  {
   "cell_type": "markdown",
   "metadata": {},
   "source": [
    "**7. To apply an NLP-based sentiment analysis approach using VADER and TextBlob to classify CBC-related tweets as positive, negative, or neutral, providing strategic insights into the education system.**"
   ]
  },
  {
   "cell_type": "code",
   "execution_count": 72,
   "metadata": {
    "scrolled": true
   },
   "outputs": [],
   "source": [
    "# Function to extract URLs\n",
    "def extract_urls(text):\n",
    "    urls = re.findall(r'http[s]?://\\S+', text)\n",
    "    return ' '.join(urls) if urls else None\n",
    "\n",
    "# Function to remove URLs from the text\n",
    "def remove_urls(text):\n",
    "    # Regular expression to remove URLs\n",
    "    return re.sub(r'http[s]?://\\S+', '', text)\n",
    "\n",
    "# Applying the functions to split the text column\n",
    "tweets['URLs'] = tweets['Text'].apply(extract_urls) \n",
    "tweets['Text_Only'] = tweets['Text'].apply(remove_urls)  "
   ]
  },
  {
   "cell_type": "code",
   "execution_count": 73,
   "metadata": {},
   "outputs": [
    {
     "name": "stdout",
     "output_type": "stream",
     "text": [
      "                                             Text_Only Sentiment\n",
      "0    Let’s Talk Monday: EdTech Edition!\\nParents, d...  Positive\n",
      "1    Let’s Talk Monday: #EdTechMonday\\n\\nWith Kenya...  Positive\n",
      "2    Education reforms under CBC are revolutionizin...   Neutral\n",
      "3    Betty Kirui shares how the CBC education syste...  Positive\n",
      "4    The shift from 8-4-4 to CBC reflects Kenya's c...  Positive\n",
      "..                                                 ...       ...\n",
      "935  IF EDUCATION IS EXPENSIVE THE GATES OF PRISON ...   Neutral\n",
      "938  Why is CBC too expensive and demanding for par...  Negative\n",
      "943  Ongoing Grade 3 Assessment: There have been co...  Positive\n",
      "945  Over one-third of our radio shows participants...   Neutral\n",
      "961  Education CS. Prof George Magoha has assured g...  Positive\n",
      "\n",
      "[725 rows x 2 columns]\n"
     ]
    }
   ],
   "source": [
    "# Initializing lemmatizer and sentiment analyzer\n",
    "lemmatizer = WordNetLemmatizer()\n",
    "sia = SentimentIntensityAnalyzer()\n",
    "\n",
    "def clean_tweet_advanced(tweet):\n",
    "    \"\"\"Cleans and preprocesses tweet text.\"\"\"\n",
    "    tweet = re.sub(r\"http\\S+|@\\w+|#\\w+\", \"\", tweet)  \n",
    "    words = word_tokenize(tweet.lower())  \n",
    "    lemmatized = \" \".join([lemmatizer.lemmatize(word) for word in words]) \n",
    "    return lemmatized\n",
    "\n",
    "def analyze_sentiment(tweet):\n",
    "    \"\"\"Combining TextBlob and VADER sentiment analysis.\"\"\"\n",
    "    cleaned_tweet = clean_tweet_advanced(tweet)\n",
    "\n",
    "    # VADER Analysis\n",
    "    vader_score = sia.polarity_scores(cleaned_tweet)['compound']\n",
    "\n",
    "    # TextBlob Analysis\n",
    "    textblob_score = TextBlob(cleaned_tweet).sentiment.polarity\n",
    "\n",
    "    # Averaging both scores for better classification\n",
    "    final_score = (vader_score + textblob_score) / 2\n",
    "\n",
    "    # Classify sentiment\n",
    "    if final_score > 0.2:\n",
    "        return \"Positive\"\n",
    "    elif final_score < -0.2:\n",
    "        return \"Negative\"\n",
    "    else:\n",
    "        return \"Neutral\"\n",
    "\n",
    "# Applying sentiment analysis to the 'Text' column and creating a new 'Sentiment' column\n",
    "tweets['Sentiment'] = tweets['Text_Only'].apply(analyze_sentiment)\n",
    "\n",
    " #Displaying the tweet text and corresponding sentiment\n",
    "print(tweets[['Text_Only', 'Sentiment']]) \n"
   ]
  },
  {
   "cell_type": "markdown",
   "metadata": {},
   "source": [
    "The tweets have been classified into either positive, negative or neutral."
   ]
  },
  {
   "cell_type": "code",
   "execution_count": 35,
   "metadata": {},
   "outputs": [
    {
     "data": {
      "text/plain": [
       "Text              0\n",
       "Retweets          0\n",
       "Likes             0\n",
       "Year              0\n",
       "Tweet_length      0\n",
       "URLs            145\n",
       "Text_Only         0\n",
       "Sentiment         0\n",
       "dtype: int64"
      ]
     },
     "execution_count": 35,
     "metadata": {},
     "output_type": "execute_result"
    }
   ],
   "source": [
    "#Confirming if there are any nulls after classifying the sentiments\n",
    "tweets.isnull().sum()"
   ]
  },
  {
   "cell_type": "markdown",
   "metadata": {},
   "source": [
    "The new tweets dataset presents to have 145 nulls for the URLS, so we will drop the URL column since it's not needed for modeling."
   ]
  },
  {
   "cell_type": "code",
   "execution_count": 36,
   "metadata": {},
   "outputs": [
    {
     "data": {
      "text/html": [
       "<div>\n",
       "<style scoped>\n",
       "    .dataframe tbody tr th:only-of-type {\n",
       "        vertical-align: middle;\n",
       "    }\n",
       "\n",
       "    .dataframe tbody tr th {\n",
       "        vertical-align: top;\n",
       "    }\n",
       "\n",
       "    .dataframe thead th {\n",
       "        text-align: right;\n",
       "    }\n",
       "</style>\n",
       "<table border=\"1\" class=\"dataframe\">\n",
       "  <thead>\n",
       "    <tr style=\"text-align: right;\">\n",
       "      <th></th>\n",
       "      <th>Text</th>\n",
       "      <th>Retweets</th>\n",
       "      <th>Likes</th>\n",
       "      <th>Year</th>\n",
       "      <th>Tweet_length</th>\n",
       "      <th>Text_Only</th>\n",
       "      <th>Sentiment</th>\n",
       "    </tr>\n",
       "  </thead>\n",
       "  <tbody>\n",
       "    <tr>\n",
       "      <th>0</th>\n",
       "      <td>Let’s Talk Monday: EdTech Edition!\\nParents, d...</td>\n",
       "      <td>1</td>\n",
       "      <td>3</td>\n",
       "      <td>2025</td>\n",
       "      <td>44</td>\n",
       "      <td>Let’s Talk Monday: EdTech Edition!\\nParents, d...</td>\n",
       "      <td>Positive</td>\n",
       "    </tr>\n",
       "    <tr>\n",
       "      <th>1</th>\n",
       "      <td>Let’s Talk Monday: #EdTechMonday\\n\\nWith Kenya...</td>\n",
       "      <td>1</td>\n",
       "      <td>0</td>\n",
       "      <td>2025</td>\n",
       "      <td>38</td>\n",
       "      <td>Let’s Talk Monday: #EdTechMonday\\n\\nWith Kenya...</td>\n",
       "      <td>Positive</td>\n",
       "    </tr>\n",
       "    <tr>\n",
       "      <th>2</th>\n",
       "      <td>Education reforms under CBC are revolutionizin...</td>\n",
       "      <td>0</td>\n",
       "      <td>0</td>\n",
       "      <td>2025</td>\n",
       "      <td>27</td>\n",
       "      <td>Education reforms under CBC are revolutionizin...</td>\n",
       "      <td>Neutral</td>\n",
       "    </tr>\n",
       "    <tr>\n",
       "      <th>3</th>\n",
       "      <td>Betty Kirui shares how the CBC education syste...</td>\n",
       "      <td>1</td>\n",
       "      <td>2</td>\n",
       "      <td>2024</td>\n",
       "      <td>36</td>\n",
       "      <td>Betty Kirui shares how the CBC education syste...</td>\n",
       "      <td>Positive</td>\n",
       "    </tr>\n",
       "    <tr>\n",
       "      <th>4</th>\n",
       "      <td>The shift from 8-4-4 to CBC reflects Kenya's c...</td>\n",
       "      <td>0</td>\n",
       "      <td>0</td>\n",
       "      <td>2025</td>\n",
       "      <td>24</td>\n",
       "      <td>The shift from 8-4-4 to CBC reflects Kenya's c...</td>\n",
       "      <td>Positive</td>\n",
       "    </tr>\n",
       "  </tbody>\n",
       "</table>\n",
       "</div>"
      ],
      "text/plain": [
       "                                                Text  Retweets  Likes  Year  \\\n",
       "0  Let’s Talk Monday: EdTech Edition!\\nParents, d...         1      3  2025   \n",
       "1  Let’s Talk Monday: #EdTechMonday\\n\\nWith Kenya...         1      0  2025   \n",
       "2  Education reforms under CBC are revolutionizin...         0      0  2025   \n",
       "3  Betty Kirui shares how the CBC education syste...         1      2  2024   \n",
       "4  The shift from 8-4-4 to CBC reflects Kenya's c...         0      0  2025   \n",
       "\n",
       "   Tweet_length                                          Text_Only Sentiment  \n",
       "0            44  Let’s Talk Monday: EdTech Edition!\\nParents, d...  Positive  \n",
       "1            38  Let’s Talk Monday: #EdTechMonday\\n\\nWith Kenya...  Positive  \n",
       "2            27  Education reforms under CBC are revolutionizin...   Neutral  \n",
       "3            36  Betty Kirui shares how the CBC education syste...  Positive  \n",
       "4            24  The shift from 8-4-4 to CBC reflects Kenya's c...  Positive  "
      ]
     },
     "execution_count": 36,
     "metadata": {},
     "output_type": "execute_result"
    }
   ],
   "source": [
    "#Dropping the URL column\n",
    "tweets = tweets.drop(columns=['URLs'])\n",
    "tweets.head()"
   ]
  },
  {
   "cell_type": "markdown",
   "metadata": {},
   "source": [
    "**8. To analyze sentiment trends in tweets about the CBC education system**"
   ]
  },
  {
   "cell_type": "code",
   "execution_count": 37,
   "metadata": {},
   "outputs": [
    {
     "data": {
      "image/png": "[encoded data removed]",
      "text/plain": [
       "<Figure size 720x360 with 1 Axes>"
      ]
     },
     "metadata": {
      "needs_background": "light"
     },
     "output_type": "display_data"
    }
   ],
   "source": [
    "#Grouping year and sentiment\n",
    "sentiment_trends = tweets.groupby(['Year', 'Sentiment']).size().unstack()\n",
    "\n",
    "#Defining colors for the graph\n",
    "colors = ['black', '#1f77b4', '#ff7f0e']  \n",
    "\n",
    "#Plotting the graph\n",
    "sentiment_trends.plot(kind='line', stacked=True, figsize=(10, 5), color=colors)\n",
    "plt.title(\"Sentiment Trends Over Years\")\n",
    "plt.xlabel(\"Year\")\n",
    "plt.ylabel(\"Tweet Count\")\n",
    "plt.legend(title=\"Sentiment\")\n",
    "plt.show()"
   ]
  },
  {
   "cell_type": "markdown",
   "metadata": {},
   "source": [
    "- The sentiment trend analysis of CBC-related tweets from 2017 to 2025 shows a significant rise in positive and neutral sentiments starting around 2021, with positive sentiment peaking in 2024 before slightly declining. This suggests growing public engagement, possibly due to policy reforms or increased awareness. \n",
    "\n",
    "- Neutral sentiment follows a similar upward trend, indicating widespread discussions without strong opinions. Negative sentiment remains low but gradually increases, suggesting some concerns, though not as prominent as positive reactions. Overall, the data indicates increasing public discourse around CBC, with a generally favorable perception over time."
   ]
  },
  {
   "cell_type": "markdown",
   "metadata": {},
   "source": [
    "**9. To determine which sentiments gets more engagement**"
   ]
  },
  {
   "cell_type": "code",
   "execution_count": 74,
   "metadata": {},
   "outputs": [
    {
     "data": {
      "image/png": "[encoded data removed]",
      "text/plain": [
       "<Figure size 1008x360 with 2 Axes>"
      ]
     },
     "metadata": {
      "needs_background": "light"
     },
     "output_type": "display_data"
    }
   ],
   "source": [
    "# Create a single figure with two subplots\n",
    "fig, axes = plt.subplots(1, 2, figsize=(14, 5))  \n",
    "\n",
    "# Likes distribution\n",
    "sns.violinplot(x='Sentiment', y='Likes', data=tweets, ax=axes[0])\n",
    "axes[0].set_title(\"Likes Distribution Across Sentiments\")\n",
    "\n",
    "# Retweets distribution\n",
    "sns.violinplot(x='Sentiment', y='Retweets', data=tweets, ax=axes[1])\n",
    "axes[1].set_title(\"Retweets Distribution Across Sentiments\")\n",
    "plt.tight_layout()\n",
    "plt.show()"
   ]
  },
  {
   "cell_type": "markdown",
   "metadata": {},
   "source": [
    " **Likes Distribution**\n",
    " \n",
    "- The majority of tweets, regardless of sentiment, receive fewer likes (clustered around 0–500 likes).\n",
    "- A few tweets have extremely high likes (outliers above 10,000), which suggests that some CBC-related tweets gained viral attention.\n",
    "- The distribution is similar across all sentiments, meaning no clear preference for engagement based on sentiment alone.\n",
    "\n",
    "**Retweets Distribution**\n",
    "\n",
    "- Most tweets receive low retweets (clustered around 0–100).\n",
    "- Some tweets have high retweet counts (above 2,500), indicating a few highly shared tweets.\n",
    "- Again, the distribution across sentiments is quite similar, suggesting no strong sentiment bias in retweet activity.\n",
    "\n",
    "Overall, sentiment does not seem to significantly affect engagement, as distributions look quite similar across Positive, Neutral, and Negative categories.\n"
   ]
  },
  {
   "cell_type": "markdown",
   "metadata": {},
   "source": [
    "# Modelling"
   ]
  },
  {
   "cell_type": "markdown",
   "metadata": {},
   "source": [
    "**10. To build and evaluate predictive models (Random Forest, XGBoost, and Logistic Regression) for sentiment classification, comparing their performance in accurately classifying CBC-related tweets.**"
   ]
  },
  {
   "cell_type": "markdown",
   "metadata": {},
   "source": [
    "**Building the Models**"
   ]
  },
  {
   "cell_type": "code",
   "execution_count": 79,
   "metadata": {},
   "outputs": [
    {
     "data": {
      "text/plain": [
       "Neutral     350\n",
       "Positive    287\n",
       "Negative     88\n",
       "Name: Sentiment, dtype: int64"
      ]
     },
     "execution_count": 79,
     "metadata": {},
     "output_type": "execute_result"
    }
   ],
   "source": [
    "# Creating a copy of the dataset\n",
    "tweets_encoded = tweets.copy()\n",
    "\n",
    "\n",
    "# Defining features \n",
    "X = tweets_encoded[\"Text_Only\"]  \n",
    "y = tweets_encoded[\"Sentiment\"]  \n",
    "\n",
    "\n",
    "# Initializing LabelEncoder\n",
    "label_encoder = LabelEncoder()\n",
    "\n",
    "# Encoding the sentiment labels\n",
    "y_encoded = label_encoder.fit_transform(y)\n",
    "\n",
    "# Converting text to numerical features using TF-IDF\n",
    "vectorizer = TfidfVectorizer(max_features=5000)\n",
    "X_transformed = vectorizer.fit_transform(X)\n",
    "\n",
    "#Checking for class Imbalance\n",
    "tweets[\"Sentiment\"].value_counts()"
   ]
  },
  {
   "cell_type": "markdown",
   "metadata": {},
   "source": [
    "The dataset presents to have a class imbalance, with Class 1 (Neutral) having 350 samples, Class 2 (Positive) having 287 samples and Class 0 (Negative)having Only 88 samples (underrepresented).To tackle this, we will use SMOTE (Synthetic Minority Oversampling Technique) to generate synthetic samples for class 0 (Negative) so all classes are balanced."
   ]
  },
  {
   "cell_type": "code",
   "execution_count": 80,
   "metadata": {},
   "outputs": [
    {
     "name": "stdout",
     "output_type": "stream",
     "text": [
      "Balanced class distribution: Counter({1: 281, 0: 281, 2: 281})\n"
     ]
    }
   ],
   "source": [
    "#Dealing with class Imbalance\n",
    "from imblearn.over_sampling import SMOTE\n",
    "\n",
    "# Split data into train and test sets (80-20 split)\n",
    "X_train, X_test, y_train, y_test = train_test_split(X_transformed,y_encoded, test_size=0.2, random_state=42)\n",
    "\n",
    "\n",
    "# Initialize SMOTE\n",
    "smote = SMOTE(sampling_strategy='auto', random_state=42)\n",
    "\n",
    "# Apply SMOTE to training data\n",
    "X_train_balanced, y_train_balanced = smote.fit_resample(X_train, y_train)\n",
    "\n",
    "# Check new class distribution\n",
    "from collections import Counter\n",
    "print(\"Balanced class distribution:\", Counter(y_train_balanced))\n"
   ]
  },
  {
   "cell_type": "markdown",
   "metadata": {},
   "source": [
    "The target classes are now balanced as presented in the above output.\n",
    "\n",
    "**Training the Models**"
   ]
  },
  {
   "cell_type": "code",
   "execution_count": 81,
   "metadata": {},
   "outputs": [
    {
     "name": "stdout",
     "output_type": "stream",
     "text": [
      "Random Forest:\n",
      "               precision    recall  f1-score   support\n",
      "\n",
      "           0       1.00      0.05      0.09        22\n",
      "           1       0.58      0.77      0.66        69\n",
      "           2       0.58      0.57      0.58        54\n",
      "\n",
      "    accuracy                           0.59       145\n",
      "   macro avg       0.72      0.46      0.44       145\n",
      "weighted avg       0.65      0.59      0.54       145\n",
      "\n",
      "XGBoost:\n",
      "               precision    recall  f1-score   support\n",
      "\n",
      "           0       0.42      0.23      0.29        22\n",
      "           1       0.65      0.77      0.70        69\n",
      "           2       0.67      0.63      0.65        54\n",
      "\n",
      "    accuracy                           0.63       145\n",
      "   macro avg       0.58      0.54      0.55       145\n",
      "weighted avg       0.62      0.63      0.62       145\n",
      "\n",
      "Logistic Regression:\n",
      "               precision    recall  f1-score   support\n",
      "\n",
      "           0       0.40      0.09      0.15        22\n",
      "           1       0.58      0.71      0.64        69\n",
      "           2       0.60      0.61      0.61        54\n",
      "\n",
      "    accuracy                           0.58       145\n",
      "   macro avg       0.53      0.47      0.46       145\n",
      "weighted avg       0.56      0.58      0.55       145\n",
      "\n"
     ]
    }
   ],
   "source": [
    "# Initializing the  models\n",
    "rf = RandomForestClassifier(n_estimators=100, random_state=42)\n",
    "xgb = XGBClassifier(use_label_encoder=False, eval_metric='mlogloss')\n",
    "logreg = LogisticRegression(max_iter=1000)\n",
    "\n",
    "# Training the models\n",
    "rf.fit(X_train_balanced,  y_train_balanced )\n",
    "xgb.fit(X_train_balanced,  y_train_balanced )\n",
    "logreg.fit(X_train_balanced,  y_train_balanced )\n",
    "\n",
    "# Predict\n",
    "rf_pred = rf.predict(X_test)\n",
    "xgb_pred = xgb.predict(X_test)\n",
    "logreg_pred = logreg.predict(X_test)\n",
    "\n",
    "# Evaluating performance\n",
    "print(\"Random Forest:\\n\", classification_report(y_test, rf_pred))\n",
    "print(\"XGBoost:\\n\", classification_report(y_test, xgb_pred))\n",
    "print(\"Logistic Regression:\\n\", classification_report(y_test, logreg_pred))"
   ]
  },
  {
   "cell_type": "markdown",
   "metadata": {},
   "source": [
    "**Random Forest**\n",
    "\n",
    "- This model performs well for class 1 (Neutral) with a 77% recall, meaning it correctly identifies most neutral tweets but poorly predicts the Class 0 (Negative), with only 5% recall, meaning most negative tweets are misclassified.\n",
    "\n",
    "- Overall, the accuracy is 59%, and the macro-average F1-score is low (0.44) due to the poor performance on class 0.\n",
    "\n",
    "**XGBoost**\n",
    "\n",
    "- This model Performs better than Random Forest, achieving 63% accuracy and better balance across all classes.However, Class 0 (Negative) still has low recall (23%), meaning many negative tweets are misclassified.\n",
    "\n",
    "- Overall: The macro-average F1-score (0.55) shows a more balanced performance compared to Random Forest.\n",
    "\n",
    "**Logistic Regression**\n",
    "\n",
    "- This model Performs similarly to Random Forest, but slightly better for class 1 (Neutral) and class 2 (Positive). It however displays a Very poor recall for class 0 (Negative) at 9%, meaning it struggles to identify negative tweets.\n",
    "\n",
    "- Overall: With 58% accuracy, it is slightly worse than XGBoost, and the macro-average F1-score (0.46) shows imbalance.\n",
    "\n",
    "**In all the 3 models XGBoost is the best so far** with the highest accuracy & a balanced recall.\n"
   ]
  },
  {
   "cell_type": "markdown",
   "metadata": {},
   "source": [
    "**Tuning Each Model**\n",
    "\n",
    "We use GridsearchCV to find the best parameters for each model."
   ]
  },
  {
   "cell_type": "code",
   "execution_count": 102,
   "metadata": {},
   "outputs": [
    {
     "name": "stdout",
     "output_type": "stream",
     "text": [
      "Random forest best parameters:RandomForestClassifier(max_depth=20, n_estimators=300, random_state=42)\n",
      "Xg boost best parameters:XGBClassifier(base_score=None, booster=None, callbacks=None,\n",
      "              colsample_bylevel=None, colsample_bynode=None,\n",
      "              colsample_bytree=None, early_stopping_rounds=None,\n",
      "              enable_categorical=False, eval_metric='mlogloss',\n",
      "              feature_types=None, gamma=None, gpu_id=None, grow_policy=None,\n",
      "              importance_type=None, interaction_constraints=None,\n",
      "              learning_rate=0.1, max_bin=None, max_cat_threshold=None,\n",
      "              max_cat_to_onehot=None, max_delta_step=None, max_depth=3,\n",
      "              max_leaves=None, min_child_weight=None, missing=nan,\n",
      "              monotone_constraints=None, n_estimators=300, n_jobs=None,\n",
      "              num_parallel_tree=None, objective='multi:softprob',\n",
      "              predictor=None, ...)\n",
      "logistic regression best parameters:LogisticRegression(C=1, max_iter=1000)\n"
     ]
    }
   ],
   "source": [
    "# Tuning Random Forest\n",
    "rf_params = {\n",
    "    'n_estimators': [100, 200, 300],\n",
    "    'max_depth': [10, 20, None],\n",
    "    'min_samples_split': [2, 5, 10]\n",
    "}\n",
    "rf_grid = GridSearchCV(RandomForestClassifier(random_state=42), rf_params, cv=3, scoring='f1_macro')\n",
    "rf_grid.fit(X_train_balanced,  y_train_balanced)\n",
    "best_rf = rf_grid.best_estimator_\n",
    "print(f\"Random forest best parameters:{best_rf}\")\n",
    "\n",
    "# Tuning XGBoost\n",
    "xgb_params = {\n",
    "    'n_estimators': [100, 300],\n",
    "    'learning_rate': [0.01, 0.1, 0.2],\n",
    "    'max_depth': [3, 5, 7]\n",
    "}\n",
    "xgb_grid = GridSearchCV(XGBClassifier(use_label_encoder=False, eval_metric='mlogloss'), xgb_params, cv=3, scoring='f1_macro')\n",
    "xgb_grid.fit(X_train_balanced,  y_train_balanced)\n",
    "best_xgb = xgb_grid.best_estimator_\n",
    "print(f\"Xg boost best parameters:{best_xgb}\")\n",
    "\n",
    "#Tuning Logistic Regression\n",
    "logreg_params = {\n",
    "    'C': [0.1, 1, 10],\n",
    "    'solver': ['lbfgs', 'liblinear']\n",
    "}\n",
    "logreg_grid = GridSearchCV(LogisticRegression(max_iter=1000), logreg_params, cv=3, scoring='f1_macro')\n",
    "logreg_grid.fit(X_train_balanced,  y_train_balanced)\n",
    "best_logreg = logreg_grid.best_estimator_\n",
    "print(f\"logistic regression best parameters:{best_logreg}\")"
   ]
  },
  {
   "cell_type": "markdown",
   "metadata": {},
   "source": [
    "**Comparing the models after tuning**"
   ]
  },
  {
   "cell_type": "code",
   "execution_count": 103,
   "metadata": {},
   "outputs": [
    {
     "name": "stdout",
     "output_type": "stream",
     "text": [
      "Random Forest F1-score: 0.4289\n",
      "XGBoost F1-score: 0.5352\n",
      "Logistic Regression F1-score: 0.4633\n",
      "\n",
      "Best Random Forest Model:\n",
      "               precision    recall  f1-score   support\n",
      "\n",
      "           0       0.00      0.00      0.00        22\n",
      "           1       0.61      0.77      0.68        69\n",
      "           2       0.59      0.63      0.61        54\n",
      "\n",
      "    accuracy                           0.60       145\n",
      "   macro avg       0.40      0.47      0.43       145\n",
      "weighted avg       0.51      0.60      0.55       145\n",
      "\n",
      "\n",
      "Best XGBoost Model:\n",
      "               precision    recall  f1-score   support\n",
      "\n",
      "           0       0.25      0.14      0.18        22\n",
      "           1       0.67      0.81      0.74        69\n",
      "           2       0.72      0.67      0.69        54\n",
      "\n",
      "    accuracy                           0.66       145\n",
      "   macro avg       0.55      0.54      0.54       145\n",
      "weighted avg       0.63      0.66      0.64       145\n",
      "\n",
      "\n",
      "Best Logistic Regression Model:\n",
      "               precision    recall  f1-score   support\n",
      "\n",
      "           0       0.40      0.09      0.15        22\n",
      "           1       0.58      0.71      0.64        69\n",
      "           2       0.60      0.61      0.61        54\n",
      "\n",
      "    accuracy                           0.58       145\n",
      "   macro avg       0.53      0.47      0.46       145\n",
      "weighted avg       0.56      0.58      0.55       145\n",
      "\n"
     ]
    }
   ],
   "source": [
    "from sklearn.metrics import f1_score\n",
    "\n",
    "# Predicting using best models\n",
    "rf_best_pred = best_rf.predict(X_test)\n",
    "xgb_best_pred = best_xgb.predict(X_test)\n",
    "logreg_best_pred = best_logreg.predict(X_test)\n",
    "\n",
    "# Evaluating the models after tuning\n",
    "rf_f1 = f1_score(y_test, rf_best_pred, average='macro')\n",
    "xgb_f1 = f1_score(y_test, xgb_best_pred, average='macro')\n",
    "logreg_f1 = f1_score(y_test, logreg_best_pred, average='macro')\n",
    "\n",
    "# Print results\n",
    "print(f\"Random Forest F1-score: {rf_f1:.4f}\")\n",
    "print(f\"XGBoost F1-score: {xgb_f1:.4f}\")\n",
    "print(f\"Logistic Regression F1-score: {logreg_f1:.4f}\")\n",
    "\n",
    "# Print classification reports\n",
    "print(\"\\nBest Random Forest Model:\\n\", classification_report(y_test, rf_best_pred))\n",
    "print(\"\\nBest XGBoost Model:\\n\", classification_report(y_test, xgb_best_pred))\n",
    "print(\"\\nBest Logistic Regression Model:\\n\", classification_report(y_test, logreg_best_pred))"
   ]
  },
  {
   "cell_type": "markdown",
   "metadata": {},
   "source": [
    "**XGBoost**\n",
    "\n",
    "- XGBoost performs the best among the models, achieving an F1-score of 0.5352.\n",
    "\n",
    "- It balances precision and recall well, particularly for class 1 (Neutral) and class 2 (Positive).\n",
    "\n",
    "**Random Forest**\n",
    "\n",
    "- The model struggles with classifying class 0 (Negative) correctly, leading to an F1-score of 0.4289.\n",
    "\n",
    "- Its recall is highest for class 1 (Neutral), meaning it predicts neutral tweets more accurately than other classes.\n",
    "\n",
    "**Logistic Regression**\n",
    "\n",
    "- The model performs moderately, with an F1-score of 0.4633, struggling with class 0 (Negative).\n",
    "\n",
    "- It achieves relatively stable performance across classes but lacks the predictive strength of XGBoost"
   ]
  },
  {
   "cell_type": "markdown",
   "metadata": {},
   "source": [
    "**Comparing the performance of the models using a Confusion Matrix**"
   ]
  },
  {
   "cell_type": "code",
   "execution_count": 104,
   "metadata": {},
   "outputs": [
    {
     "data": {
      "image/png": "[encoded data removed]",
      "text/plain": [
       "<Figure size 1296x360 with 6 Axes>"
      ]
     },
     "metadata": {
      "needs_background": "light"
     },
     "output_type": "display_data"
    }
   ],
   "source": [
    "from sklearn.metrics import confusion_matrix\n",
    "\n",
    "# Function to plot confusion matrix\n",
    "def plot_conf_matrix(ax, y_test, y_pred, model_name):\n",
    "    cm = confusion_matrix(y_test, y_pred)\n",
    "    sns.heatmap(cm, annot=True, fmt=\"d\", cmap=\"Blues\", xticklabels=[\"Negative\", \"Neutral\", \"Positive\"], \n",
    "                yticklabels=[\"Negative\", \"Neutral\", \"Positive\"], ax=ax)\n",
    "    ax.set_xlabel(\"Predicted Label\")\n",
    "    ax.set_ylabel(\"True Label\")\n",
    "    ax.set_title(f\"{model_name}\")\n",
    "\n",
    "#Plotting confusion matrices\n",
    "fig, axes = plt.subplots(1, 3, figsize=(18, 5))\n",
    "\n",
    "plot_conf_matrix(axes[0], y_test, rf_best_pred, \"Random Forest\")\n",
    "plot_conf_matrix(axes[1], y_test, xgb_best_pred, \"XGBoost\")\n",
    "plot_conf_matrix(axes[2], y_test, logreg_best_pred, \"Logistic Regression\")\n",
    "\n",
    "plt.tight_layout()\n",
    "plt.show()"
   ]
  },
  {
   "cell_type": "markdown",
   "metadata": {},
   "source": [
    "**Interpretation**\n",
    "\n",
    "**1. Random Forest:** This model struggles to classify Negative cases correctly, predicting all as Neutral or Positive. It performs well on Neutral and Positive cases but misclassifies some Positive cases as Neutral.\n",
    "\n",
    "**2. XGBoost:** This model shows better balance, with more accurate classifications for Neutral and Positive cases. However, it still misclassifies some Negative cases as Neutral or Positive.\n",
    "\n",
    "**3. Logistic Regression:** This model struggles the most, misclassifying many Negative cases and showing lower accuracy for Neutral and Positive predictions compared to XGBoost."
   ]
  },
  {
   "cell_type": "markdown",
   "metadata": {},
   "source": [
    "#### Selecting the best Model\n",
    "\n",
    "XGBoost presents to be the best-performing model for predicting CBC tweets, achieving a better balance in classifying all sentiment categories. Random Forest performs well for Neutral and Positive sentiments but struggles with Negative cases, while Logistic Regression has the highest misclassification rate across all categories.\n",
    "\n",
    "In terms of the F1-score, XGBoost remains the top performer with an F1-score of 0.5352, indicating a stronger balance between precision and recall compared to the other models."
   ]
  },
  {
   "cell_type": "markdown",
   "metadata": {},
   "source": [
    "**11.To develop a chatbot that leverages TF-IDF and Cosine Similarity to match user queries with relevant responses, ensuring accurate and efficient query resolution**"
   ]
  },
  {
   "cell_type": "markdown",
   "metadata": {},
   "source": [
    "**Building the model**\n",
    "\n",
    "**Using TF-IDF + Cosine Similarity Approach**\n",
    "\n",
    "TF-IDF (Term Frequency-Inverse Document Frequency) converts text into numeric vectors, while Cosine Similarity measures the similarity between query and response, helping match user queries with relevant responses in a chatbot."
   ]
  },
  {
   "cell_type": "code",
   "execution_count": 53,
   "metadata": {},
   "outputs": [
    {
     "name": "stdout",
     "output_type": "stream",
     "text": [
      "Hello! Ask me anything. Type 'bye' to exit.\n",
      "You: what is cbc\n",
      "Bot: CBC  stands for \"Competency-Based Curriculum,\" a system of education implemented in Kenya that aims to equip learners with essential skills beyond just academic knowledge, focusing on competencies like critical thinking, collaboration, and creativity\n",
      "You: what is ccba\n",
      "Bot: CBC  stands for \"Competency-Based Curriculum,\" a system of education implemented in Kenya that aims to equip learners with essential skills beyond just academic knowledge, focusing on competencies like critical thinking, collaboration, and creativity\n",
      "You: is it costly\n",
      "Bot: CBC is costlier than 8-4-4 due to increased resource demands, learning materials, and teacher training requirements.\n",
      "You: what subjects are taught\n",
      "Bot: CBC offers a diverse curriculum including sciences, humanities, technical subjects, and creative arts.\n",
      "You: what subjects are taught at pp1\n",
      "Bot: CBC offers a diverse curriculum including sciences, humanities, technical subjects, and creative arts.\n",
      "You: ppi subjects\n",
      "Bot: Pre-primary subjects include Language Activities (5), Mathematics Activities (5), Creative Activities (6), Environmental Activities (5), Religious Activities (3), and Pastoral Programme of Instruction (PPI) (1) lessons per week.\n",
      "You: grades\n",
      "Bot: Students are permitted to transfer at Grades 3, 4, 5, and across different levels within the Stage-Based Curriculum Pathway, except for Grade 6 due to assessment requirements.\n",
      "You: how is grading done\n",
      "Bot: Kenya’s Competency-Based Curriculum (CBC) uses a summative grading system with four categories: Mastery (80–100%), Proficiency (65–79%), Competent (50–64%), and Not Yet Competent (0–49%).\n",
      "You: how are teachers paid\n",
      "Bot: Teachers undergo continuous professional development to effectively implement CBC methodologies.\n",
      "You: payment\n",
      "Bot: I'm sorry, I couldn't find a relevant answer.\n",
      "You: fees\n",
      "Bot: CBC school fees vary depending on the school, grade level, and whether lunch is included.\n",
      "You: rural\n",
      "Bot: Rural CBC implementation is supported through mobile learning, digital resource accessibility, teacher training, and community involvement, ensuring education reaches all learners equitably.\n",
      "You: computer\n",
      "Bot: I'm sorry, I couldn't find a relevant answer.\n",
      "You: technology\n",
      "Bot: Technology in CBC enhances digital literacy, e-learning, research skills, and creativity through coding, online assessments, and digital collaboration tools.\n",
      "You: bye\n",
      "Bot: Goodbye!\n"
     ]
    }
   ],
   "source": [
    "# Initialize lemmatizer\n",
    "lemmer = nltk.stem.WordNetLemmatizer()\n",
    "\n",
    "# Text preprocessing with tokenization and lemmatization\n",
    "def preprocess(text):\n",
    "    tokens = nltk.word_tokenize(text.lower())  # Tokenization\n",
    "    lemmatized_tokens = [lemmer.lemmatize(token) for token in tokens]  # Lemmatization\n",
    "    return ' '.join(lemmatized_tokens)\n",
    "\n",
    "# Applying preprocessing to the dataset\n",
    "data['Question'] = data['Question'].apply(preprocess)\n",
    "\n",
    "# Splitting data into train (70%) and test (30%)\n",
    "train_data, test_data = train_test_split(data, test_size=0.3, random_state=42)\n",
    "\n",
    "# TF-IDF Vectorization on training data\n",
    "vectorizer = TfidfVectorizer()\n",
    "tfidf_matrix = vectorizer.fit_transform(train_data['Question'])\n",
    "\n",
    "# Function to get the best-matching answer\n",
    "def get_answer(user_question):\n",
    "    user_question = preprocess(user_question)  # Preprocess user input\n",
    "    user_tfidf = vectorizer.transform([user_question])\n",
    "    similarities = cosine_similarity(user_tfidf, tfidf_matrix)\n",
    "    best_match_index = similarities.argmax()\n",
    "    confidence = similarities[0][best_match_index]\n",
    "\n",
    "    if confidence > 0.3:  # Confidence threshold\n",
    "        return train_data['Answer'].iloc[best_match_index]\n",
    "    else:\n",
    "        return \"I'm sorry, I couldn't find a relevant answer.\"\n",
    "\n",
    "# Chatbot loop\n",
    "print(\"Hello! Ask me anything. Type 'bye' to exit.\")\n",
    "\n",
    "while True:\n",
    "    user_input = input(\"You: \")\n",
    "    if user_input.lower() == 'bye':\n",
    "        print(\"Bot: Goodbye!\")\n",
    "        break\n",
    "\n",
    "    response = get_answer(user_input)\n",
    "    print(f\"Bot: {response}\")\n"
   ]
  },
  {
   "cell_type": "markdown",
   "metadata": {},
   "source": [
    "**Evaluating the Model**\n",
    "\n",
    "**1. Classification report**"
   ]
  },
  {
   "cell_type": "code",
   "execution_count": 70,
   "metadata": {},
   "outputs": [
    {
     "name": "stdout",
     "output_type": "stream",
     "text": [
      "Accuracy: 0.01\n",
      "Precision: 0.01\n",
      "Recall: 0.01\n",
      "F1 Score: 0.01\n"
     ]
    }
   ],
   "source": [
    "\n",
    "from sklearn.metrics import accuracy_score, precision_score, recall_score, f1_score\n",
    "\n",
    "# Evaluate on test set\n",
    "true_answers = []\n",
    "predicted_answers = []\n",
    "\n",
    "for _, row in test_data.iterrows():\n",
    "    question = row['Question']\n",
    "    true_answers.append(row['Answer'])\n",
    "    predicted_answers.append(get_answer(question))\n",
    "\n",
    "# Evaluate performance\n",
    "accuracy = accuracy_score(true_answers, predicted_answers)\n",
    "precision = precision_score(true_answers, predicted_answers, average='weighted', zero_division=0)\n",
    "recall = recall_score(true_answers, predicted_answers, average='weighted', zero_division=0)\n",
    "f1 = f1_score(true_answers, predicted_answers, average='weighted', zero_division=0)\n",
    "\n",
    "print(f\"Accuracy: {accuracy:.2f}\")\n",
    "print(f\"Precision: {precision:.2f}\")\n",
    "print(f\"Recall: {recall:.2f}\")\n",
    "print(f\"F1 Score: {f1:.2f}\")\n"
   ]
  },
  {
   "cell_type": "markdown",
   "metadata": {},
   "source": [
    " **Mean Reciprocal Rank (MRR)**\n",
    " \n",
    "Evaluates how close the correct answer is in ranked results."
   ]
  },
  {
   "cell_type": "code",
   "execution_count": 56,
   "metadata": {},
   "outputs": [
    {
     "name": "stdout",
     "output_type": "stream",
     "text": [
      "Mean Reciprocal Rank (MRR): 0.01\n"
     ]
    }
   ],
   "source": [
    "def mean_reciprocal_rank(y_true, y_pred):\n",
    "    ranks = []\n",
    "    for true, pred in zip(y_true, y_pred):\n",
    "        if true == pred:\n",
    "            ranks.append(1)\n",
    "        else:\n",
    "            ranks.append(0)\n",
    "    return sum(ranks) / len(ranks)\n",
    "\n",
    "mrr = mean_reciprocal_rank(true_answers, predicted_answers)\n",
    "print(f\"Mean Reciprocal Rank (MRR): {mrr:.2f}\")\n"
   ]
  },
  {
   "cell_type": "markdown",
   "metadata": {},
   "source": [
    "An MRR of 0.01 indicates very poor performance, meaning the correct answers usually appear far down the ranking list. Ideally, an MRR close to 1.0 suggests the correct answer is often the top result. To improve this score, we would enhance preprocessing and adjust the similarity threshold."
   ]
  },
  {
   "cell_type": "markdown",
   "metadata": {},
   "source": [
    "**Cosine Similarity Distribution**\n",
    "\n",
    "Visualize similarity scores for predictions."
   ]
  },
  {
   "cell_type": "code",
   "execution_count": 57,
   "metadata": {},
   "outputs": [
    {
     "data": {
      "image/png": "[encoded data removed]",
      "text/plain": [
       "<Figure size 432x288 with 1 Axes>"
      ]
     },
     "metadata": {
      "needs_background": "light"
     },
     "output_type": "display_data"
    }
   ],
   "source": [
    "import seaborn as sns\n",
    "\n",
    "similarity_scores = [cosine_similarity(vectorizer.transform([q]), tfidf_matrix).max() for q in test_data['Question']]\n",
    "\n",
    "sns.histplot(similarity_scores, bins=20, kde=True)\n",
    "plt.xlabel(\"Cosine Similarity Score\")\n",
    "plt.title(\"Distribution of Similarity Scores\")\n",
    "plt.show()"
   ]
  },
  {
   "cell_type": "markdown",
   "metadata": {},
   "source": [
    "The distribution suggests that while the model identifies some relevant matches, the sharp peak near 1.0 indicates potential overfitting. The weak matches in the 0.3–0.5 range highlight the need for a higher confidence threshold. To improve accuracy,  adjusting the threshold to around 0.6–0.7 for partial matches would lead to more reliable predictions."
   ]
  },
  {
   "cell_type": "markdown",
   "metadata": {},
   "source": [
    "**Tuning the Model**"
   ]
  },
  {
   "cell_type": "code",
   "execution_count": 67,
   "metadata": {},
   "outputs": [
    {
     "name": "stdout",
     "output_type": "stream",
     "text": [
      "Hello! Ask me anything. Type 'bye' to exit.\n",
      "You: cbc\n",
      "Bot: CBC  stands for \"Competency-Based Curriculum,\" a system of education implemented in Kenya that aims to equip learners with essential skills beyond just academic knowledge, focusing on competencies like critical thinking, collaboration, and creativity\n",
      "You: cba\n",
      "Bot: Competency-Based Assessment (CBA) is an evaluation approach in CBC that focuses on measuring learners' skills, knowledge, and competencies through continuous, practical, and formative assessments rather than relying solely on traditional exams.\n",
      "You: fees\n",
      "Bot: CBC school fees vary depending on the school, grade level, and whether lunch is included.\n",
      "You: university\n",
      "Bot: The CBC education structure follows a 2-6-3-3-3 system. Learners spend two years in pre-primary, six in primary, three in junior secondary, and three in senior secondary before joining university for at least three years.\n",
      "You: expensive\n",
      "Bot: Yes, CBC requires more resources, learning materials, and specialized training, making it costlier than the traditional 8-4-4 education system.\n",
      "You: subjects\n",
      "Bot: Subjects introduced under CBC include Sciences, Mathematics, Languages, Social Studies, Creative Arts, Physical Education, Life Skills, and Technology-related studies.\n",
      "You: bye\n",
      "Bot: Goodbye!\n"
     ]
    }
   ],
   "source": [
    "# Initialize lemmatizer\n",
    "lemmer = nltk.stem.WordNetLemmatizer()\n",
    "\n",
    "# Text preprocessing with tokenization and lemmatization\n",
    "def preprocess(text):\n",
    "    tokens = nltk.word_tokenize(text.lower())  # Tokenization\n",
    "    lemmatized_tokens = [lemmer.lemmatize(token) for token in tokens]  # Lemmatization\n",
    "    return ' '.join(lemmatized_tokens)\n",
    "\n",
    "# Apply preprocessing to the dataset\n",
    "data['Question'] = data['Question'].apply(preprocess)\n",
    "\n",
    "# Split data into train (70%) and test (30%)\n",
    "train_data1, test_data1 = train_test_split(data, test_size=0.3, random_state=42)\n",
    "\n",
    "# TF-IDF Vectorization on training data\n",
    "vectorizer = TfidfVectorizer()\n",
    "tfidf_matrix = vectorizer.fit_transform(train_data1['Question'])\n",
    "\n",
    "# Function to get the best-matching answer\n",
    "def get_answer(user_question):\n",
    "    user_question = preprocess(user_question)  # Preprocess user input\n",
    "    user_tfidf = vectorizer.transform([user_question])\n",
    "    similarities = cosine_similarity(user_tfidf, tfidf_matrix)\n",
    "    best_match_index = similarities.argmax()\n",
    "    confidence = similarities[0][best_match_index]\n",
    "\n",
    "    if confidence > 0.6:  # Confidence threshold\n",
    "        return train_data1['Answer'].iloc[best_match_index]\n",
    "    else:\n",
    "        return \"I'm sorry, I couldn't find a relevant answer.\"\n",
    "\n",
    "# Chatbot loop\n",
    "print(\"Hello! Ask me anything. Type 'bye' to exit.\")\n",
    "\n",
    "while True:\n",
    "    user_input = input(\"You: \")\n",
    "    if user_input.lower() == 'bye':\n",
    "        print(\"Bot: Goodbye!\")\n",
    "        break\n",
    "\n",
    "    response = get_answer(user_input)\n",
    "    print(f\"Bot: {response}\")\n"
   ]
  },
  {
   "cell_type": "markdown",
   "metadata": {},
   "source": [
    "**Evaluating the Tuned model**"
   ]
  },
  {
   "cell_type": "code",
   "execution_count": 68,
   "metadata": {},
   "outputs": [
    {
     "data": {
      "image/png": "[encoded data removed]",
      "text/plain": [
       "<Figure size 432x288 with 1 Axes>"
      ]
     },
     "metadata": {
      "needs_background": "light"
     },
     "output_type": "display_data"
    }
   ],
   "source": [
    "#Extracting similarity scores\n",
    "similarity_scores = [cosine_similarity(vectorizer.transform([q]), tfidf_matrix).max() for q in test_data1['Question']]\n",
    "\n",
    "sns.histplot(similarity_scores, bins=20, kde=True)\n",
    "plt.xlabel(\"Cosine Similarity Score\")\n",
    "plt.title(\"Distribution of Similarity Scores\")\n",
    "plt.show()"
   ]
  },
  {
   "cell_type": "code",
   "execution_count": 71,
   "metadata": {},
   "outputs": [
    {
     "name": "stdout",
     "output_type": "stream",
     "text": [
      "Accuracy: 0.01\n",
      "Precision: 0.01\n",
      "Recall: 0.01\n",
      "F1 Score: 0.01\n"
     ]
    }
   ],
   "source": [
    "\n",
    "# Evaluate on test set\n",
    "true_answers = []\n",
    "predicted_answers = []\n",
    "\n",
    "for _, row in test_data1.iterrows():\n",
    "    question = row['Question']\n",
    "    true_answers.append(row['Answer'])\n",
    "    predicted_answers.append(get_answer(question))\n",
    "\n",
    "# Evaluate performance\n",
    "accuracy = accuracy_score(true_answers, predicted_answers)\n",
    "precision = precision_score(true_answers, predicted_answers, average='weighted', zero_division=0)\n",
    "recall = recall_score(true_answers, predicted_answers, average='weighted', zero_division=0)\n",
    "f1 = f1_score(true_answers, predicted_answers, average='weighted', zero_division=0)\n",
    "\n",
    "print(f\"Accuracy: {accuracy:.2f}\")\n",
    "print(f\"Precision: {precision:.2f}\")\n",
    "print(f\"Recall: {recall:.2f}\")\n",
    "print(f\"F1 Score: {f1:.2f}\")"
   ]
  }
 ],
 "metadata": {
  "kernelspec": {
   "display_name": "Python 3",
   "language": "python",
   "name": "python3"
  },
  "language_info": {
   "codemirror_mode": {
    "name": "ipython",
    "version": 3
   },
   "file_extension": ".py",
   "mimetype": "text/x-python",
   "name": "python",
   "nbconvert_exporter": "python",
   "pygments_lexer": "ipython3",
   "version": "3.8.5"
  }
 },
 "nbformat": 4,
 "nbformat_minor": 4
}
