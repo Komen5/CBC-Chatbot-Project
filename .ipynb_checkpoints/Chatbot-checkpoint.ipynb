{
 "cells": [
  {
   "cell_type": "markdown",
   "metadata": {},
   "source": [
    "# Competency Based Curriculum Chatbot Project "
   ]
  },
  {
   "cell_type": "markdown",
   "metadata": {},
   "source": [
    "## Overview\n",
    "\n",
    "This project involved building a chatbot to  automate responses for the new education system in Kenya (CBC), assisting  students, parents, and educators with curriculum details, assessments, and policies. It enhances engagement, provides instant information, and simplifies learning pathways using AI-driven conversational support tailored to user needs.\n",
    "\n",
    "## Business Understanding\n",
    "\n",
    "The Competency-Based Curriculum (CBC) in Kenya is designed to equip learners with practical skills, but its implementation has faced challenges. Parents, teachers, and students often struggle to access accurate and timely information regarding the curriculum, assessment methods, and their respective roles. Currently, most CBC-related inquiries rely on government circulars, school meetings, or online discussions, which are often fragmented and inconsistent.\n",
    "\n",
    "To address this, an AI-powered chatbot will be developed to provide instant, reliable, and structured responses to CBC-related questions. This chatbot will serve as an interactive platform where users can seek information about curriculum structure, assessment criteria, parental involvement, and available teaching resources. The goal is to enhance accessibility, reduce misinformation, and improve user engagement by leveraging natural language processing (NLP) for dynamic, intelligent responses.\n",
    "\n",
    "## Data Understanding\n",
    "To ensure the chatbot delivers relevant and accurate responses, data will be gathered from multiple sources. Official curriculum documents from the Kenya Institute of Curriculum Development (KICD) will serve as the primary data source, supplemented by Ministry of Education policies, circulars, and guidelines. \n",
    "The data will primarily be text-based, comprising structured content from official documents and unstructured conversations from forums and user queries. \n",
    "\n",
    "## Objectives\n",
    "1. To develop a chatbot that leverages TF-IDF and Cosine Similarity to match user queries with relevant responses, while utilizing Random Forest/XGBoost to rank and optimize the best possible answers, ensuring accurate and efficient query resolution\n",
    "\n",
    "2. To analyze the question column in the FAQS dataset to identify the most frequently asked queries and common keywords, enabling optimization of chatbot responses and improving user query resolution.\n",
    "\n",
    "3. To develop an NLP model to classify CBC tweets as positive, negative, or neutral, providing actionable insights into improved education system.\n",
    "\n",
    "4. To analyze sentiment trends in tweets about the CBC education system, providing actionable insights to support strategic decision-making for policy development, curriculum improvements, and stakeholder engagement \n",
    "\n",
    "5.  the bot to bilingual/ also able to translate English to Swahili in case someone types in Swahili\n"
   ]
  },
  {
   "cell_type": "code",
   "execution_count": 1,
   "metadata": {},
   "outputs": [],
   "source": [
    "# Importing the necessary libraries\n",
    "import pandas as pd\n",
    "import numpy as np\n",
    "import matplotlib.pyplot as plt\n",
    "import seaborn as sns\n",
    "import warnings\n",
    "warnings.filterwarnings('ignore')"
   ]
  },
  {
   "cell_type": "code",
   "execution_count": 2,
   "metadata": {},
   "outputs": [
    {
     "data": {
      "text/html": [
       "<div>\n",
       "<style scoped>\n",
       "    .dataframe tbody tr th:only-of-type {\n",
       "        vertical-align: middle;\n",
       "    }\n",
       "\n",
       "    .dataframe tbody tr th {\n",
       "        vertical-align: top;\n",
       "    }\n",
       "\n",
       "    .dataframe thead th {\n",
       "        text-align: right;\n",
       "    }\n",
       "</style>\n",
       "<table border=\"1\" class=\"dataframe\">\n",
       "  <thead>\n",
       "    <tr style=\"text-align: right;\">\n",
       "      <th></th>\n",
       "      <th>Question</th>\n",
       "      <th>Answer</th>\n",
       "    </tr>\n",
       "  </thead>\n",
       "  <tbody>\n",
       "    <tr>\n",
       "      <th>0</th>\n",
       "      <td>What are the main objectives of the Competency...</td>\n",
       "      <td>The CBC aims to equip learners with practical ...</td>\n",
       "    </tr>\n",
       "    <tr>\n",
       "      <th>1</th>\n",
       "      <td>How does CBC differ from the 8-4-4 education s...</td>\n",
       "      <td>Unlike 8-4-4, which focused on exams and conte...</td>\n",
       "    </tr>\n",
       "    <tr>\n",
       "      <th>2</th>\n",
       "      <td>What are the key levels in the CBC structure?</td>\n",
       "      <td>CBC is divided into three main levels: Early Y...</td>\n",
       "    </tr>\n",
       "    <tr>\n",
       "      <th>3</th>\n",
       "      <td>What role do parents play in CBC?</td>\n",
       "      <td>Parents are actively involved in their child's...</td>\n",
       "    </tr>\n",
       "    <tr>\n",
       "      <th>4</th>\n",
       "      <td>How is learner progress assessed under CBC?</td>\n",
       "      <td>Assessment is continuous and includes practica...</td>\n",
       "    </tr>\n",
       "  </tbody>\n",
       "</table>\n",
       "</div>"
      ],
      "text/plain": [
       "                                            Question  \\\n",
       "0  What are the main objectives of the Competency...   \n",
       "1  How does CBC differ from the 8-4-4 education s...   \n",
       "2      What are the key levels in the CBC structure?   \n",
       "3                  What role do parents play in CBC?   \n",
       "4        How is learner progress assessed under CBC?   \n",
       "\n",
       "                                              Answer  \n",
       "0  The CBC aims to equip learners with practical ...  \n",
       "1  Unlike 8-4-4, which focused on exams and conte...  \n",
       "2  CBC is divided into three main levels: Early Y...  \n",
       "3  Parents are actively involved in their child's...  \n",
       "4  Assessment is continuous and includes practica...  "
      ]
     },
     "execution_count": 2,
     "metadata": {},
     "output_type": "execute_result"
    }
   ],
   "source": [
    "# Loading the FAQS dataset\n",
    "data = pd.read_csv(\"FAQS.csv\")\n",
    "data.head()"
   ]
  },
  {
   "cell_type": "code",
   "execution_count": 3,
   "metadata": {
    "scrolled": true
   },
   "outputs": [
    {
     "data": {
      "text/html": [
       "<div>\n",
       "<style scoped>\n",
       "    .dataframe tbody tr th:only-of-type {\n",
       "        vertical-align: middle;\n",
       "    }\n",
       "\n",
       "    .dataframe tbody tr th {\n",
       "        vertical-align: top;\n",
       "    }\n",
       "\n",
       "    .dataframe thead th {\n",
       "        text-align: right;\n",
       "    }\n",
       "</style>\n",
       "<table border=\"1\" class=\"dataframe\">\n",
       "  <thead>\n",
       "    <tr style=\"text-align: right;\">\n",
       "      <th></th>\n",
       "      <th>Tweet_count</th>\n",
       "      <th>Username</th>\n",
       "      <th>Text</th>\n",
       "      <th>Created At</th>\n",
       "      <th>Retweets</th>\n",
       "      <th>Likes</th>\n",
       "    </tr>\n",
       "  </thead>\n",
       "  <tbody>\n",
       "    <tr>\n",
       "      <th>0</th>\n",
       "      <td>1</td>\n",
       "      <td>Edtech East Africa</td>\n",
       "      <td>Let’s Talk Monday: EdTech Edition!\\nParents, d...</td>\n",
       "      <td>Mon Jan 20 07:20:46 +0000 2025</td>\n",
       "      <td>1</td>\n",
       "      <td>3</td>\n",
       "    </tr>\n",
       "    <tr>\n",
       "      <th>1</th>\n",
       "      <td>2</td>\n",
       "      <td>Edtech East Africa</td>\n",
       "      <td>Let’s Talk Monday: #EdTechMonday\\n\\nWith Kenya...</td>\n",
       "      <td>Mon Jan 27 08:45:00 +0000 2025</td>\n",
       "      <td>1</td>\n",
       "      <td>0</td>\n",
       "    </tr>\n",
       "    <tr>\n",
       "      <th>2</th>\n",
       "      <td>3</td>\n",
       "      <td>unknown</td>\n",
       "      <td>Education reforms under CBC are revolutionizin...</td>\n",
       "      <td>Mon Jan 20 09:16:39 +0000 2025</td>\n",
       "      <td>0</td>\n",
       "      <td>0</td>\n",
       "    </tr>\n",
       "    <tr>\n",
       "      <th>3</th>\n",
       "      <td>4</td>\n",
       "      <td>Kenya Girl Guides Association</td>\n",
       "      <td>Betty Kirui shares how the CBC education syste...</td>\n",
       "      <td>Mon Dec 16 07:32:44 +0000 2024</td>\n",
       "      <td>1</td>\n",
       "      <td>2</td>\n",
       "    </tr>\n",
       "    <tr>\n",
       "      <th>4</th>\n",
       "      <td>5</td>\n",
       "      <td>His/Him/He</td>\n",
       "      <td>The shift from 8-4-4 to CBC reflects Kenya's c...</td>\n",
       "      <td>Mon Jan 20 09:16:27 +0000 2025</td>\n",
       "      <td>0</td>\n",
       "      <td>0</td>\n",
       "    </tr>\n",
       "    <tr>\n",
       "      <th>5</th>\n",
       "      <td>6</td>\n",
       "      <td>SpiceFM</td>\n",
       "      <td>Benson Wambugu: When CBC came people feared ch...</td>\n",
       "      <td>Fri Jan 10 05:54:20 +0000 2025</td>\n",
       "      <td>0</td>\n",
       "      <td>2</td>\n",
       "    </tr>\n",
       "    <tr>\n",
       "      <th>6</th>\n",
       "      <td>7</td>\n",
       "      <td>Kenya Defence Forces</td>\n",
       "      <td>Brigadier Bernard Oluoch, Base Commander Moi A...</td>\n",
       "      <td>Sun Jan 19 09:00:55 +0000 2025</td>\n",
       "      <td>33</td>\n",
       "      <td>226</td>\n",
       "    </tr>\n",
       "    <tr>\n",
       "      <th>7</th>\n",
       "      <td>8</td>\n",
       "      <td>𝖒𝖆𝖈𝖍𝖆𝖗𝖎𝖆 𝖒𝖚𝖈𝖔𝖒𝖇𝖆</td>\n",
       "      <td>Transforming education in Kenya! 27,000 new cl...</td>\n",
       "      <td>Sun Jan 19 12:21:38 +0000 2025</td>\n",
       "      <td>12</td>\n",
       "      <td>7</td>\n",
       "    </tr>\n",
       "    <tr>\n",
       "      <th>8</th>\n",
       "      <td>9</td>\n",
       "      <td>Mary♥️</td>\n",
       "      <td>27,000 new classrooms were built, easing CBC t...</td>\n",
       "      <td>Fri Feb 07 07:05:43 +0000 2025</td>\n",
       "      <td>2</td>\n",
       "      <td>1</td>\n",
       "    </tr>\n",
       "    <tr>\n",
       "      <th>9</th>\n",
       "      <td>10</td>\n",
       "      <td>Zoey</td>\n",
       "      <td>With 27,000 new classrooms and 76,000 teachers...</td>\n",
       "      <td>Fri Feb 07 07:52:53 +0000 2025</td>\n",
       "      <td>0</td>\n",
       "      <td>1</td>\n",
       "    </tr>\n",
       "  </tbody>\n",
       "</table>\n",
       "</div>"
      ],
      "text/plain": [
       "   Tweet_count                       Username  \\\n",
       "0            1             Edtech East Africa   \n",
       "1            2             Edtech East Africa   \n",
       "2            3                        unknown   \n",
       "3            4  Kenya Girl Guides Association   \n",
       "4            5                     His/Him/He   \n",
       "5            6                        SpiceFM   \n",
       "6            7           Kenya Defence Forces   \n",
       "7            8               𝖒𝖆𝖈𝖍𝖆𝖗𝖎𝖆 𝖒𝖚𝖈𝖔𝖒𝖇𝖆   \n",
       "8            9                         Mary♥️   \n",
       "9           10                           Zoey   \n",
       "\n",
       "                                                Text  \\\n",
       "0  Let’s Talk Monday: EdTech Edition!\\nParents, d...   \n",
       "1  Let’s Talk Monday: #EdTechMonday\\n\\nWith Kenya...   \n",
       "2  Education reforms under CBC are revolutionizin...   \n",
       "3  Betty Kirui shares how the CBC education syste...   \n",
       "4  The shift from 8-4-4 to CBC reflects Kenya's c...   \n",
       "5  Benson Wambugu: When CBC came people feared ch...   \n",
       "6  Brigadier Bernard Oluoch, Base Commander Moi A...   \n",
       "7  Transforming education in Kenya! 27,000 new cl...   \n",
       "8  27,000 new classrooms were built, easing CBC t...   \n",
       "9  With 27,000 new classrooms and 76,000 teachers...   \n",
       "\n",
       "                       Created At  Retweets  Likes  \n",
       "0  Mon Jan 20 07:20:46 +0000 2025         1      3  \n",
       "1  Mon Jan 27 08:45:00 +0000 2025         1      0  \n",
       "2  Mon Jan 20 09:16:39 +0000 2025         0      0  \n",
       "3  Mon Dec 16 07:32:44 +0000 2024         1      2  \n",
       "4  Mon Jan 20 09:16:27 +0000 2025         0      0  \n",
       "5  Fri Jan 10 05:54:20 +0000 2025         0      2  \n",
       "6  Sun Jan 19 09:00:55 +0000 2025        33    226  \n",
       "7  Sun Jan 19 12:21:38 +0000 2025        12      7  \n",
       "8  Fri Feb 07 07:05:43 +0000 2025         2      1  \n",
       "9  Fri Feb 07 07:52:53 +0000 2025         0      1  "
      ]
     },
     "execution_count": 3,
     "metadata": {},
     "output_type": "execute_result"
    }
   ],
   "source": [
    "# Loading the tweets dataset\n",
    "tweets = pd.read_csv(\"merged_dataset_Twitter.csv\")\n",
    "tweets.head(10)"
   ]
  },
  {
   "cell_type": "code",
   "execution_count": 4,
   "metadata": {},
   "outputs": [
    {
     "name": "stdout",
     "output_type": "stream",
     "text": [
      "<class 'pandas.core.frame.DataFrame'>\n",
      "RangeIndex: 2533 entries, 0 to 2532\n",
      "Data columns (total 2 columns):\n",
      " #   Column    Non-Null Count  Dtype \n",
      "---  ------    --------------  ----- \n",
      " 0   Question  2533 non-null   object\n",
      " 1   Answer    2533 non-null   object\n",
      "dtypes: object(2)\n",
      "memory usage: 39.7+ KB\n"
     ]
    }
   ],
   "source": [
    "# Check the info in the FAQS dataset\n",
    "data.info()"
   ]
  },
  {
   "cell_type": "markdown",
   "metadata": {},
   "source": [
    "This dataset has 2,533 entries and 2 columns (Question, Answer), both containing text data (object type) with no missing values."
   ]
  },
  {
   "cell_type": "code",
   "execution_count": 5,
   "metadata": {},
   "outputs": [
    {
     "data": {
      "text/html": [
       "<div>\n",
       "<style scoped>\n",
       "    .dataframe tbody tr th:only-of-type {\n",
       "        vertical-align: middle;\n",
       "    }\n",
       "\n",
       "    .dataframe tbody tr th {\n",
       "        vertical-align: top;\n",
       "    }\n",
       "\n",
       "    .dataframe thead th {\n",
       "        text-align: right;\n",
       "    }\n",
       "</style>\n",
       "<table border=\"1\" class=\"dataframe\">\n",
       "  <thead>\n",
       "    <tr style=\"text-align: right;\">\n",
       "      <th></th>\n",
       "      <th>Question</th>\n",
       "      <th>Answer</th>\n",
       "    </tr>\n",
       "  </thead>\n",
       "  <tbody>\n",
       "    <tr>\n",
       "      <th>count</th>\n",
       "      <td>2533</td>\n",
       "      <td>2533</td>\n",
       "    </tr>\n",
       "    <tr>\n",
       "      <th>unique</th>\n",
       "      <td>1897</td>\n",
       "      <td>2144</td>\n",
       "    </tr>\n",
       "    <tr>\n",
       "      <th>top</th>\n",
       "      <td>What impact does CBC have on creativity?</td>\n",
       "      <td>CBC is learner-centered, skill-based, and outc...</td>\n",
       "    </tr>\n",
       "    <tr>\n",
       "      <th>freq</th>\n",
       "      <td>7</td>\n",
       "      <td>5</td>\n",
       "    </tr>\n",
       "  </tbody>\n",
       "</table>\n",
       "</div>"
      ],
      "text/plain": [
       "                                        Question  \\\n",
       "count                                       2533   \n",
       "unique                                      1897   \n",
       "top     What impact does CBC have on creativity?   \n",
       "freq                                           7   \n",
       "\n",
       "                                                   Answer  \n",
       "count                                                2533  \n",
       "unique                                               2144  \n",
       "top     CBC is learner-centered, skill-based, and outc...  \n",
       "freq                                                    5  "
      ]
     },
     "execution_count": 5,
     "metadata": {},
     "output_type": "execute_result"
    }
   ],
   "source": [
    "#Describing the FAQS dataset\n",
    "data.describe()"
   ]
  },
  {
   "cell_type": "markdown",
   "metadata": {},
   "source": [
    "* There are 2,533 rows, meaning the dataset contains 2,533 FAQ pairs (each with a question and answer).\n",
    "Unique Values\n",
    "\n",
    "* Question column has 1,897 unique values:\n",
    "* Answers column has 2,144 unique values:\n",
    "* The most common question is \"How does CBC promote civic responsibility?\", appearing 7 times in the dataset.\n",
    "* The most common answer is \"Unlike traditional systems, CBC prioritizes co...\", appearing 5 times in the dataset.\n",
    "* The most common question appears 7 times, indicating that users frequently ask about CBC and civic responsibility.\n",
    "* The most common answer appears 5 times, suggesting that some questions share a similar response."
   ]
  },
  {
   "cell_type": "code",
   "execution_count": 6,
   "metadata": {},
   "outputs": [
    {
     "name": "stdout",
     "output_type": "stream",
     "text": [
      "<class 'pandas.core.frame.DataFrame'>\n",
      "RangeIndex: 1086 entries, 0 to 1085\n",
      "Data columns (total 6 columns):\n",
      " #   Column       Non-Null Count  Dtype \n",
      "---  ------       --------------  ----- \n",
      " 0   Tweet_count  1086 non-null   int64 \n",
      " 1   Username     1086 non-null   object\n",
      " 2   Text         1086 non-null   object\n",
      " 3   Created At   1086 non-null   object\n",
      " 4   Retweets     1086 non-null   int64 \n",
      " 5   Likes        1086 non-null   int64 \n",
      "dtypes: int64(3), object(3)\n",
      "memory usage: 51.0+ KB\n"
     ]
    }
   ],
   "source": [
    "# Check the info in the FAQS dataset\n",
    "tweets.info()"
   ]
  },
  {
   "cell_type": "markdown",
   "metadata": {},
   "source": [
    "This dataset contains 1,086 rows and 6 columns with no missing values.\n",
    "\n",
    "Columns & Data Types:\n",
    "- Tweet_count, Retweets, Likes → Integer (int64) (numeric values)\n",
    "- Username, Text, Created At → Object (string/text data)"
   ]
  },
  {
   "cell_type": "code",
   "execution_count": 7,
   "metadata": {},
   "outputs": [
    {
     "data": {
      "text/html": [
       "<div>\n",
       "<style scoped>\n",
       "    .dataframe tbody tr th:only-of-type {\n",
       "        vertical-align: middle;\n",
       "    }\n",
       "\n",
       "    .dataframe tbody tr th {\n",
       "        vertical-align: top;\n",
       "    }\n",
       "\n",
       "    .dataframe thead th {\n",
       "        text-align: right;\n",
       "    }\n",
       "</style>\n",
       "<table border=\"1\" class=\"dataframe\">\n",
       "  <thead>\n",
       "    <tr style=\"text-align: right;\">\n",
       "      <th></th>\n",
       "      <th>Tweet_count</th>\n",
       "      <th>Retweets</th>\n",
       "      <th>Likes</th>\n",
       "    </tr>\n",
       "  </thead>\n",
       "  <tbody>\n",
       "    <tr>\n",
       "      <th>count</th>\n",
       "      <td>1086.000000</td>\n",
       "      <td>1086.000000</td>\n",
       "      <td>1086.000000</td>\n",
       "    </tr>\n",
       "    <tr>\n",
       "      <th>mean</th>\n",
       "      <td>111.337017</td>\n",
       "      <td>65.476980</td>\n",
       "      <td>313.256906</td>\n",
       "    </tr>\n",
       "    <tr>\n",
       "      <th>std</th>\n",
       "      <td>66.098646</td>\n",
       "      <td>231.677925</td>\n",
       "      <td>895.040384</td>\n",
       "    </tr>\n",
       "    <tr>\n",
       "      <th>min</th>\n",
       "      <td>1.000000</td>\n",
       "      <td>0.000000</td>\n",
       "      <td>0.000000</td>\n",
       "    </tr>\n",
       "    <tr>\n",
       "      <th>25%</th>\n",
       "      <td>55.000000</td>\n",
       "      <td>1.000000</td>\n",
       "      <td>3.000000</td>\n",
       "    </tr>\n",
       "    <tr>\n",
       "      <th>50%</th>\n",
       "      <td>109.000000</td>\n",
       "      <td>5.000000</td>\n",
       "      <td>19.000000</td>\n",
       "    </tr>\n",
       "    <tr>\n",
       "      <th>75%</th>\n",
       "      <td>164.000000</td>\n",
       "      <td>39.000000</td>\n",
       "      <td>248.750000</td>\n",
       "    </tr>\n",
       "    <tr>\n",
       "      <th>max</th>\n",
       "      <td>251.000000</td>\n",
       "      <td>2451.000000</td>\n",
       "      <td>10281.000000</td>\n",
       "    </tr>\n",
       "  </tbody>\n",
       "</table>\n",
       "</div>"
      ],
      "text/plain": [
       "       Tweet_count     Retweets         Likes\n",
       "count  1086.000000  1086.000000   1086.000000\n",
       "mean    111.337017    65.476980    313.256906\n",
       "std      66.098646   231.677925    895.040384\n",
       "min       1.000000     0.000000      0.000000\n",
       "25%      55.000000     1.000000      3.000000\n",
       "50%     109.000000     5.000000     19.000000\n",
       "75%     164.000000    39.000000    248.750000\n",
       "max     251.000000  2451.000000  10281.000000"
      ]
     },
     "execution_count": 7,
     "metadata": {},
     "output_type": "execute_result"
    }
   ],
   "source": [
    "#Describing the tweeets columns\n",
    "tweets.describe()"
   ]
  },
  {
   "cell_type": "markdown",
   "metadata": {},
   "source": [
    "The dataset contains 1,086 tweets with high variability in engagement. Some tweets have zero likes/retweets, while top tweets reach 2,451 retweets and 10,281 likes. Most tweets get low engagement (median: 5 retweets, 19 likes)."
   ]
  },
  {
   "cell_type": "markdown",
   "metadata": {},
   "source": [
    "## Data cleaning"
   ]
  },
  {
   "cell_type": "markdown",
   "metadata": {},
   "source": [
    "### Accuracy"
   ]
  },
  {
   "cell_type": "code",
   "execution_count": 8,
   "metadata": {},
   "outputs": [
    {
     "data": {
      "text/plain": [
       "Question    0\n",
       "Answer      0\n",
       "dtype: int64"
      ]
     },
     "execution_count": 8,
     "metadata": {},
     "output_type": "execute_result"
    }
   ],
   "source": [
    "#Checkinng for nulls in the FAQS datasets\n",
    "data.isna().sum()"
   ]
  },
  {
   "cell_type": "markdown",
   "metadata": {},
   "source": [
    "There are no null values in the FAQS dataset."
   ]
  },
  {
   "cell_type": "code",
   "execution_count": 9,
   "metadata": {},
   "outputs": [
    {
     "data": {
      "text/plain": [
       "361"
      ]
     },
     "execution_count": 9,
     "metadata": {},
     "output_type": "execute_result"
    }
   ],
   "source": [
    "#Checking for duplicates in the FAQS dataset\n",
    "data.duplicated().sum()"
   ]
  },
  {
   "cell_type": "markdown",
   "metadata": {},
   "source": [
    "There are 361 duplicates in the FAQS dataset."
   ]
  },
  {
   "cell_type": "code",
   "execution_count": 10,
   "metadata": {},
   "outputs": [
    {
     "data": {
      "text/plain": [
       "Tweet_count    0\n",
       "Username       0\n",
       "Text           0\n",
       "Created At     0\n",
       "Retweets       0\n",
       "Likes          0\n",
       "dtype: int64"
      ]
     },
     "execution_count": 10,
     "metadata": {},
     "output_type": "execute_result"
    }
   ],
   "source": [
    "# Checking for null values in the tweets dataset\n",
    "tweets.isna().sum()"
   ]
  },
  {
   "cell_type": "markdown",
   "metadata": {},
   "source": [
    "There are no null values in the tweets data"
   ]
  },
  {
   "cell_type": "code",
   "execution_count": 11,
   "metadata": {},
   "outputs": [
    {
     "data": {
      "text/plain": [
       "12"
      ]
     },
     "execution_count": 11,
     "metadata": {},
     "output_type": "execute_result"
    }
   ],
   "source": [
    "# Checking for duplicates in the tweets dataset\n",
    "tweets.duplicated().sum()"
   ]
  },
  {
   "cell_type": "markdown",
   "metadata": {},
   "source": [
    "There are 12 duplicates in the tweets dataset"
   ]
  },
  {
   "cell_type": "markdown",
   "metadata": {},
   "source": [
    "### Validity"
   ]
  },
  {
   "cell_type": "code",
   "execution_count": 14,
   "metadata": {},
   "outputs": [
    {
     "data": {
      "text/html": [
       "<div>\n",
       "<style scoped>\n",
       "    .dataframe tbody tr th:only-of-type {\n",
       "        vertical-align: middle;\n",
       "    }\n",
       "\n",
       "    .dataframe tbody tr th {\n",
       "        vertical-align: top;\n",
       "    }\n",
       "\n",
       "    .dataframe thead th {\n",
       "        text-align: right;\n",
       "    }\n",
       "</style>\n",
       "<table border=\"1\" class=\"dataframe\">\n",
       "  <thead>\n",
       "    <tr style=\"text-align: right;\">\n",
       "      <th></th>\n",
       "      <th>Tweet_count</th>\n",
       "      <th>Username</th>\n",
       "      <th>Text</th>\n",
       "      <th>Created At</th>\n",
       "      <th>Retweets</th>\n",
       "      <th>Likes</th>\n",
       "      <th>Tweet_length</th>\n",
       "      <th>Year</th>\n",
       "    </tr>\n",
       "  </thead>\n",
       "  <tbody>\n",
       "    <tr>\n",
       "      <th>0</th>\n",
       "      <td>1</td>\n",
       "      <td>Edtech East Africa</td>\n",
       "      <td>Let’s Talk Monday: EdTech Edition!\\nParents, d...</td>\n",
       "      <td>2025-01-20 07:20:46+00:00</td>\n",
       "      <td>1</td>\n",
       "      <td>3</td>\n",
       "      <td>44</td>\n",
       "      <td>2025</td>\n",
       "    </tr>\n",
       "    <tr>\n",
       "      <th>1</th>\n",
       "      <td>2</td>\n",
       "      <td>Edtech East Africa</td>\n",
       "      <td>Let’s Talk Monday: #EdTechMonday\\n\\nWith Kenya...</td>\n",
       "      <td>2025-01-27 08:45:00+00:00</td>\n",
       "      <td>1</td>\n",
       "      <td>0</td>\n",
       "      <td>38</td>\n",
       "      <td>2025</td>\n",
       "    </tr>\n",
       "    <tr>\n",
       "      <th>2</th>\n",
       "      <td>3</td>\n",
       "      <td>unknown</td>\n",
       "      <td>Education reforms under CBC are revolutionizin...</td>\n",
       "      <td>2025-01-20 09:16:39+00:00</td>\n",
       "      <td>0</td>\n",
       "      <td>0</td>\n",
       "      <td>27</td>\n",
       "      <td>2025</td>\n",
       "    </tr>\n",
       "    <tr>\n",
       "      <th>3</th>\n",
       "      <td>4</td>\n",
       "      <td>Kenya Girl Guides Association</td>\n",
       "      <td>Betty Kirui shares how the CBC education syste...</td>\n",
       "      <td>2024-12-16 07:32:44+00:00</td>\n",
       "      <td>1</td>\n",
       "      <td>2</td>\n",
       "      <td>36</td>\n",
       "      <td>2024</td>\n",
       "    </tr>\n",
       "    <tr>\n",
       "      <th>4</th>\n",
       "      <td>5</td>\n",
       "      <td>His/Him/He</td>\n",
       "      <td>The shift from 8-4-4 to CBC reflects Kenya's c...</td>\n",
       "      <td>2025-01-20 09:16:27+00:00</td>\n",
       "      <td>0</td>\n",
       "      <td>0</td>\n",
       "      <td>24</td>\n",
       "      <td>2025</td>\n",
       "    </tr>\n",
       "  </tbody>\n",
       "</table>\n",
       "</div>"
      ],
      "text/plain": [
       "   Tweet_count                       Username  \\\n",
       "0            1             Edtech East Africa   \n",
       "1            2             Edtech East Africa   \n",
       "2            3                        unknown   \n",
       "3            4  Kenya Girl Guides Association   \n",
       "4            5                     His/Him/He   \n",
       "\n",
       "                                                Text  \\\n",
       "0  Let’s Talk Monday: EdTech Edition!\\nParents, d...   \n",
       "1  Let’s Talk Monday: #EdTechMonday\\n\\nWith Kenya...   \n",
       "2  Education reforms under CBC are revolutionizin...   \n",
       "3  Betty Kirui shares how the CBC education syste...   \n",
       "4  The shift from 8-4-4 to CBC reflects Kenya's c...   \n",
       "\n",
       "                 Created At  Retweets  Likes  Tweet_length  Year  \n",
       "0 2025-01-20 07:20:46+00:00         1      3            44  2025  \n",
       "1 2025-01-27 08:45:00+00:00         1      0            38  2025  \n",
       "2 2025-01-20 09:16:39+00:00         0      0            27  2025  \n",
       "3 2024-12-16 07:32:44+00:00         1      2            36  2024  \n",
       "4 2025-01-20 09:16:27+00:00         0      0            24  2025  "
      ]
     },
     "execution_count": 14,
     "metadata": {},
     "output_type": "execute_result"
    }
   ],
   "source": [
    "# Convert 'Created At' column to datetime format\n",
    "tweets['Created At'] = pd.to_datetime(tweets['Created At'])\n",
    "\n",
    "# Extract the year\n",
    "tweets['Year'] = tweets['Created At'].dt.year\n",
    "\n",
    "# Display the modified DataFrame\n",
    "tweets.head()"
   ]
  },
  {
   "cell_type": "markdown",
   "metadata": {},
   "source": [
    "### Completeness"
   ]
  },
  {
   "cell_type": "code",
   "execution_count": 15,
   "metadata": {
    "scrolled": true
   },
   "outputs": [
    {
     "data": {
      "text/html": [
       "<div>\n",
       "<style scoped>\n",
       "    .dataframe tbody tr th:only-of-type {\n",
       "        vertical-align: middle;\n",
       "    }\n",
       "\n",
       "    .dataframe tbody tr th {\n",
       "        vertical-align: top;\n",
       "    }\n",
       "\n",
       "    .dataframe thead th {\n",
       "        text-align: right;\n",
       "    }\n",
       "</style>\n",
       "<table border=\"1\" class=\"dataframe\">\n",
       "  <thead>\n",
       "    <tr style=\"text-align: right;\">\n",
       "      <th></th>\n",
       "      <th>Text</th>\n",
       "      <th>Retweets</th>\n",
       "      <th>Likes</th>\n",
       "      <th>Tweet_length</th>\n",
       "      <th>Year</th>\n",
       "    </tr>\n",
       "  </thead>\n",
       "  <tbody>\n",
       "    <tr>\n",
       "      <th>0</th>\n",
       "      <td>Let’s Talk Monday: EdTech Edition!\\nParents, d...</td>\n",
       "      <td>1</td>\n",
       "      <td>3</td>\n",
       "      <td>44</td>\n",
       "      <td>2025</td>\n",
       "    </tr>\n",
       "    <tr>\n",
       "      <th>1</th>\n",
       "      <td>Let’s Talk Monday: #EdTechMonday\\n\\nWith Kenya...</td>\n",
       "      <td>1</td>\n",
       "      <td>0</td>\n",
       "      <td>38</td>\n",
       "      <td>2025</td>\n",
       "    </tr>\n",
       "    <tr>\n",
       "      <th>2</th>\n",
       "      <td>Education reforms under CBC are revolutionizin...</td>\n",
       "      <td>0</td>\n",
       "      <td>0</td>\n",
       "      <td>27</td>\n",
       "      <td>2025</td>\n",
       "    </tr>\n",
       "    <tr>\n",
       "      <th>3</th>\n",
       "      <td>Betty Kirui shares how the CBC education syste...</td>\n",
       "      <td>1</td>\n",
       "      <td>2</td>\n",
       "      <td>36</td>\n",
       "      <td>2024</td>\n",
       "    </tr>\n",
       "    <tr>\n",
       "      <th>4</th>\n",
       "      <td>The shift from 8-4-4 to CBC reflects Kenya's c...</td>\n",
       "      <td>0</td>\n",
       "      <td>0</td>\n",
       "      <td>24</td>\n",
       "      <td>2025</td>\n",
       "    </tr>\n",
       "  </tbody>\n",
       "</table>\n",
       "</div>"
      ],
      "text/plain": [
       "                                                Text  Retweets  Likes  \\\n",
       "0  Let’s Talk Monday: EdTech Edition!\\nParents, d...         1      3   \n",
       "1  Let’s Talk Monday: #EdTechMonday\\n\\nWith Kenya...         1      0   \n",
       "2  Education reforms under CBC are revolutionizin...         0      0   \n",
       "3  Betty Kirui shares how the CBC education syste...         1      2   \n",
       "4  The shift from 8-4-4 to CBC reflects Kenya's c...         0      0   \n",
       "\n",
       "   Tweet_length  Year  \n",
       "0            44  2025  \n",
       "1            38  2025  \n",
       "2            27  2025  \n",
       "3            36  2024  \n",
       "4            24  2025  "
      ]
     },
     "execution_count": 15,
     "metadata": {},
     "output_type": "execute_result"
    }
   ],
   "source": [
    "#Dropping irrelevant columns for the tweets dataset\n",
    "columns = tweets[[\"Tweet_count\", \"Username\", \"Created At\"]]\n",
    "tweets = tweets.drop(columns, axis = 1)\n",
    "#displaying the columns\n",
    "tweets.head()"
   ]
  },
  {
   "cell_type": "markdown",
   "metadata": {},
   "source": [
    "**Checking for outliers**"
   ]
  },
  {
   "cell_type": "code",
   "execution_count": 20,
   "metadata": {},
   "outputs": [
    {
     "data": {
      "image/png": "[encoded data removed]",
      "text/plain": [
       "<Figure size 432x288 with 1 Axes>"
      ]
     },
     "metadata": {
      "needs_background": "light"
     },
     "output_type": "display_data"
    }
   ],
   "source": [
    "# Plot boxplots for numerical column to check for outliers\n",
    "sns.boxplot(data=tweets[['Tweet_length', 'Retweets', 'Likes', 'Year']])\n",
    "plt.show()\n"
   ]
  },
  {
   "cell_type": "markdown",
   "metadata": {},
   "source": [
    "- Tweet_length: Data is concentrated near the lower end with a small range and no outliers.\n",
    "\n",
    "- Retweets: Larger data spread with some outliers indicating a few tweets received significantly more retweets.\n",
    "\n",
    "- Likes: Wide data range with many outliers; some tweets received up to nearly 10,000 likes.\n",
    "\n",
    "- Year: Narrow data range, indicating minimal variation around a specific year with no outliers."
   ]
  },
  {
   "cell_type": "code",
   "execution_count": 21,
   "metadata": {},
   "outputs": [
    {
     "data": {
      "image/png": "[encoded data removed]",
      "text/plain": [
       "<Figure size 432x288 with 1 Axes>"
      ]
     },
     "metadata": {
      "needs_background": "light"
     },
     "output_type": "display_data"
    }
   ],
   "source": [
    "# Checking for outliers in the tweets dataset\n",
    "# Compute word count for questions and tweets\n",
    "data['Question_length'] = data['Question'].apply(lambda x: len(x.split()))\n",
    "tweets['Tweet_length'] = tweets['Text'].apply(lambda x: len(x.split()))\n",
    "\n",
    "# Boxplot of text lengths\n",
    "sns.boxplot(data=tweets[['Tweet_length']])\n",
    "plt.show()"
   ]
  },
  {
   "cell_type": "markdown",
   "metadata": {},
   "source": [
    "There are no outliers in the tweets dataset"
   ]
  },
  {
   "cell_type": "markdown",
   "metadata": {},
   "source": [
    "### Consistency and Uniformity-name capitalization, uniqueness"
   ]
  }
 ],
 "metadata": {
  "kernelspec": {
   "display_name": "Python (learn-env)",
   "language": "python",
   "name": "learn-env"
  },
  "language_info": {
   "codemirror_mode": {
    "name": "ipython",
    "version": 3
   },
   "file_extension": ".py",
   "mimetype": "text/x-python",
   "name": "python",
   "nbconvert_exporter": "python",
   "pygments_lexer": "ipython3",
   "version": "3.8.5"
  }
 },
 "nbformat": 4,
 "nbformat_minor": 4
}
